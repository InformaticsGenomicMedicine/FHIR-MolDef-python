{
 "cells": [
  {
   "cell_type": "markdown",
   "metadata": {},
   "source": [
    "### Demonstration: Constructing the `MolecularDefinition` Class\n",
    "\n",
    "This notebook demonstrates the construction and practical use of the MolecularDefinition class, a Python implementation of the HL7 FHIR MolecularDefinition resource.\n",
    "\n",
    "#### Overview\n",
    "The `MolecularDefinition` class, built with Pydantic, is designed to closely follow the structure and code patterns of the `fhir.resources` Python package. This notebook demonstrates how to use this class effectively, focusing on constructing key components like Location and Representation. "
   ]
  },
  {
   "cell_type": "markdown",
   "metadata": {},
   "source": [
    "### Step 1: Prerequisites and Setup\n",
    "\n",
    "To construct the `MolecularDefinitionLocation` and `MolecularDefinitionRepresentation` class in this demosntration, we set up the envionrment by importing the specific libraries and moduels required for thee examples in this notebook. This includes:\n",
    "\n",
    "1. **FHIR Resources**:\n",
    "   - `Coding`, `CodeableConcept`, `Reference`, and `Quantity`, from the `fhir.resources` library. These classes provide the framework for working with structured healthcare data in FHIR format.\n",
    "\n",
    "2. **Custom Project Modules**:\n",
    "   - Components from `moldefresource.moleculardefinition`:\n",
    "     - `MolecularDefinitionLocation` and related classes for specifying molecular location.\n",
    "     - `MolecularDefinitionRepresentation` and related classes for specifying  molecular representations.\n",
    "\n",
    "By importing these libraries, we ensure access to all the tools needed for this demonstration.\n"
   ]
  },
  {
   "cell_type": "code",
   "execution_count": 6,
   "metadata": {},
   "outputs": [],
   "source": [
    "# Import required libraries for both Location and Representation Examples\n",
    "from fhir.resources.coding import Coding\n",
    "from fhir.resources.codeableconcept import CodeableConcept\n",
    "from fhir.resources.reference import Reference\n",
    "from fhir.resources.quantity import Quantity\n",
    "from moldefresource.moleculardefinition import (\n",
    "    MolecularDefinitionLocation,\n",
    "    MolecularDefinitionLocationSequenceLocation,\n",
    "    MolecularDefinitionLocationSequenceLocationCoordinateInterval,\n",
    "    MolecularDefinitionLocationSequenceLocationCoordinateIntervalCoordinateSystem,\n",
    "    MolecularDefinitionRepresentation,\n",
    "    MolecularDefinitionRepresentationExtracted,\n",
    "    MolecularDefinitionRepresentationExtractedCoordinateInterval,\n",
    "    MolecularDefinitionRepresentationExtractedCoordinateIntervalCoordinateSystem,\n",
    ")\n"
   ]
  },
  {
   "cell_type": "markdown",
   "metadata": {},
   "source": [
    "### Step 2: Defining the MolecularDefinition Location Component\n",
    "This section demonstrates how to set up the necessary environment to construct and manipulate molecular `Location` components within the `MolecularDefinition` class. Note: The current codebase does not yet support cytobandLocation or featureLocation. These features are in the early stages of development and will be added to the codebase once they are complete.\n",
    "\n",
    "Key steps include:\n",
    "1. **Coordinate System**: Create a `Coding` instance and wrap it in a `CodeableConcept`.\n",
    "2. **Interval and Sequence Location**: Build the interval with start quantities.\n",
    "3. **Sequence Context**: Link to the reference molecular definition using a `Reference`.\n",
    "4. **Final Structure**: Combine these into a `MolecularDefinitionLocation`.\n",
    "\n",
    "#### JSON Representation:\n",
    "```json\n",
    "\"location\" : [{\n",
    "    \"sequenceLocation\" : {\n",
    "      \"sequenceContext\" : {\n",
    "        \"reference\" : \"MolecularDefinition/example-sequence-nm0007694-url\",\n",
    "        \"type\" : \"MolecularDefinition\",\n",
    "        \"display\" : \"Starting Sequence Resource: (CYP2C19), mRNA, NM_000769.4\"\n",
    "      },\n",
    "      \"coordinateInterval\" : {\n",
    "        \"coordinateSystem\" : {\n",
    "          \"system\" : {\n",
    "            \"coding\" : [{\n",
    "              \"system\" : \"http://loinc.org\",\n",
    "              \"code\" : \"LA30102-0\",\n",
    "              \"display\" : \"1-based character counting\"\n",
    "            }],\n",
    "            \"text\" : \"1-based character counting\"\n",
    "          }\n",
    "        },\n",
    "        \"startQuantity\" : {\n",
    "          \"value\" : 661\n",
    "        }\n",
    "      }\n",
    "    }\n",
    "  }]"
   ]
  },
  {
   "cell_type": "code",
   "execution_count": 7,
   "metadata": {},
   "outputs": [
    {
     "data": {
      "text/plain": [
       "{'sequenceLocation': {'sequenceContext': {'reference': 'MolecularDefinition/example-sequence-nm0007694-url',\n",
       "   'type': 'MolecularDefinition',\n",
       "   'display': 'Starting Sequence Resource: (CYP2C19), mRNA, NM_000769.4'},\n",
       "  'coordinateInterval': {'coordinateSystem': {'system': {'coding': [{'system': 'http://loinc.org',\n",
       "       'code': 'LA30100-4',\n",
       "       'display': '1-based character counting'}],\n",
       "     'text': '1-based character counting'}},\n",
       "   'startQuantity': {'value': Decimal('661')}}}}"
      ]
     },
     "execution_count": 7,
     "metadata": {},
     "output_type": "execute_result"
    }
   ],
   "source": [
    "# Define the coding for the coordinate system\n",
    "coding_val = Coding(\n",
    "    system=\"http://loinc.org\",\n",
    "    code=\"LA30100-4\",\n",
    "    display=\"1-based character counting\",\n",
    ")\n",
    "\n",
    "# Create a CodeableConcept object for the coding\n",
    "codeconcept_val = CodeableConcept(\n",
    "    coding=[coding_val],\n",
    "    text=\"1-based character counting\",\n",
    ")\n",
    "\n",
    "# Define the coordinate system for the location\n",
    "MolDefLocSeqLoCoordIntCoordSystem = MolecularDefinitionLocationSequenceLocationCoordinateIntervalCoordinateSystem(\n",
    "    system=codeconcept_val\n",
    ")\n",
    "\n",
    "# Create the coordinate interval object with a starting quantity\n",
    "MolDefLocSeqLocCoordInterval = MolecularDefinitionLocationSequenceLocationCoordinateInterval(\n",
    "    coordinateSystem=MolDefLocSeqLoCoordIntCoordSystem,\n",
    "    startQuantity=Quantity(value=661),\n",
    ")\n",
    "\n",
    "# Define the sequence location, including its context and interval\n",
    "MolDefLocSeqLocation= MolecularDefinitionLocationSequenceLocation(\n",
    "    sequenceContext=Reference(\n",
    "        reference=\"MolecularDefinition/example-sequence-nm0007694-url\",\n",
    "        type=\"MolecularDefinition\",\n",
    "        display=\"Starting Sequence Resource: (CYP2C19), mRNA, NM_000769.4\",\n",
    "    ),\n",
    "    coordinateInterval=MolDefLocSeqLocCoordInterval,\n",
    ")\n",
    "\n",
    "# Create the MolecularDefinitionLocation object, including the sequence location\n",
    "MolDefLocation = MolecularDefinitionLocation(\n",
    "    sequenceLocation=MolDefLocSeqLocation\n",
    ")\n",
    "\n",
    "# Inspect serialized output\n",
    "MolDefLocation.model_dump()\n"
   ]
  },
  {
   "cell_type": "markdown",
   "metadata": {},
   "source": [
    "### Step 3: Defining the MolecularDefinition Representation Component\n",
    "This section demonstrates how to set up the necessary environment to construct and manipulate molecular `Representation` components within the `MolecularDefinition` class. Note: This example demonstrates how to create an extracted representation, which is one of five ways to define a representation object. Other types of representations include literal, repeated, concatenated, and relative.\n",
    "\n",
    "#### Key Steps:\n",
    "1. **System Coding**: Create a `Coding` instance to specify the system, and wrap it in a `CodeableConcept`.\n",
    "2. **CoordinateSystem**: Wrap the `CodeableConcept` into ExtractedCoordinateIntervalCoordinateSystem\n",
    "3. **CoordinateInterval** Wrap `CoordinateSystem` into CoordinateInterval and specify the start and end values. \n",
    "3. **Create Reference**: Create a  `Reference` instance to specify the refernece.\n",
    "4. **Extracted Representation**: Define the extracted value using `MolecularDefinitionRepresentationExtracted`.\n",
    "5. **Final Structure**: Combine these into a `MolecularDefinitionRepresentation`. \n",
    "\n",
    "#### JSON Representation:\n",
    "```json\n",
    "\"representation\" : [{\n",
    "    \"extracted\" : {\n",
    "      \"startingMolecule\" : {\n",
    "        \"reference\" : \"MolecularDefinition/example-starting-sequence-2b-extracted\",\n",
    "        \"type\" : \"MolecularDefinition\",\n",
    "        \"display\" : \"Starting Sequence Resource\"\n",
    "      },\n",
    "      \"coordinateInterval\" : {\n",
    "        \"coordinateSystem\" : {\n",
    "          \"system\" : {\n",
    "            \"coding\" : [{\n",
    "              \"system\" : \"http://loinc.org\",\n",
    "              \"code\" : \"LA30100-4\",\n",
    "              \"display\" : \"0-based interval counting\"\n",
    "            }],\n",
    "            \"text\" : \"0-based interval counting\"\n",
    "          }\n",
    "        },\n",
    "        \"start\" : 0,\n",
    "        \"end\" : 745\n",
    "      },\n",
    "      \"reverseComplement\" : false\n",
    "    }\n",
    "  }]\n",
    "\n"
   ]
  },
  {
   "cell_type": "code",
   "execution_count": 8,
   "metadata": {},
   "outputs": [],
   "source": [
    "# Define the coding for the coordinate system\n",
    "system_coding_val = Coding(\n",
    "        system=\"http://loinc.org\",\n",
    "        code= \"LA30100-4\",\n",
    "        display= \"0-based interval counting\",\n",
    "    )\n",
    "\n",
    "# Create a CodeableConcept object that encapsulates the coding\n",
    "system_codeconcept_val = CodeableConcept(\n",
    "    coding=[system_coding_val],\n",
    "    text=\"0-based interval counting\"\n",
    ")\n",
    "\n",
    "# Create the coordinate system object for the extracted representation\n",
    "MolDefRepExtrCoordIntCoordSystem = MolecularDefinitionRepresentationExtractedCoordinateIntervalCoordinateSystem(\n",
    "    system=system_codeconcept_val\n",
    ")\n",
    "# Create the coordinate interval object with start and end positions\n",
    "MolDefRepExtrCoordInterval = MolecularDefinitionRepresentationExtractedCoordinateInterval(\n",
    "    coordinateSystem=MolDefRepExtrCoordIntCoordSystem,\n",
    "    start=0,\n",
    "    end=745\n",
    ")\n",
    "# Define the startingMolecule as a FHIR Reference object\n",
    "ref_startMol = Reference(\n",
    "    reference=\"MolecularDefinition/example-starting-sequence-2b-extracted\",\n",
    "    type=\"MolecularDefinition\",\n",
    "    display=\"Starting Sequence Resource\")\n",
    "\n",
    "# Create the extracted molecular representation object\n",
    "MolDefRepExtracted= MolecularDefinitionRepresentationExtracted(\n",
    "    startingMolecule=ref_startMol,\n",
    "    coordinateInterval=MolDefRepExtrCoordInterval,\n",
    "    reverseComplement= 'false'\n",
    ")\n"
   ]
  },
  {
   "cell_type": "code",
   "execution_count": 9,
   "metadata": {},
   "outputs": [
    {
     "data": {
      "text/plain": [
       "{'extracted': {'startingMolecule': {'reference': 'MolecularDefinition/example-starting-sequence-2b-extracted',\n",
       "   'type': 'MolecularDefinition',\n",
       "   'display': 'Starting Sequence Resource'},\n",
       "  'coordinateInterval': {'coordinateSystem': {'system': {'coding': [{'system': 'http://loinc.org',\n",
       "       'code': 'LA30100-4',\n",
       "       'display': '0-based interval counting'}],\n",
       "     'text': '0-based interval counting'}},\n",
       "   'start': 0,\n",
       "   'end': 745},\n",
       "  'reverseComplement': False}}"
      ]
     },
     "execution_count": 9,
     "metadata": {},
     "output_type": "execute_result"
    }
   ],
   "source": [
    "# Wrap the extracted representation in a MolecularDefinitionRepresentation object\n",
    "MolDefRepresentation= MolecularDefinitionRepresentation(\n",
    "    extracted=MolDefRepExtracted\n",
    ")\n",
    "MolDefRepresentation.model_dump()"
   ]
  }
 ],
 "metadata": {
  "kernelspec": {
   "display_name": "venv",
   "language": "python",
   "name": "python3"
  },
  "language_info": {
   "codemirror_mode": {
    "name": "ipython",
    "version": 3
   },
   "file_extension": ".py",
   "mimetype": "text/x-python",
   "name": "python",
   "nbconvert_exporter": "python",
   "pygments_lexer": "ipython3",
   "version": "3.11.5"
  }
 },
 "nbformat": 4,
 "nbformat_minor": 2
}
