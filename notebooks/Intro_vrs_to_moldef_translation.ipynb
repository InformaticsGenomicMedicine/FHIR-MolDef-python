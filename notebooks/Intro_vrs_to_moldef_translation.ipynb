{
 "cells": [
  {
   "cell_type": "code",
   "execution_count": 8,
   "metadata": {},
   "outputs": [],
   "source": [
    "#RUN FOR GITHUB CODESPACE\n",
    "import sys\n",
    "sys.path.append('..')"
   ]
  },
  {
   "cell_type": "code",
   "execution_count": 9,
   "metadata": {},
   "outputs": [],
   "source": [
    "from ga4gh.vrs import models\n",
    "from src.normalize.allele_normalizer import AlleleNormalizer\n",
    "norm = AlleleNormalizer()"
   ]
  },
  {
   "cell_type": "code",
   "execution_count": 10,
   "metadata": {},
   "outputs": [
    {
     "data": {
      "text/plain": [
       "{'_id': 'ga4gh:VA.fXvhngewkkyVwzEeSJRr5tro8Jcol6Q-',\n",
       " 'type': 'Allele',\n",
       " 'location': {'_id': 'ga4gh:VSL.nLMbYalHO4OEI2axqkyTMCQxrH98UpDN',\n",
       "  'type': 'SequenceLocation',\n",
       "  'sequence_id': 'ga4gh:SQ.pnAqCRBrTsUoBghSD1yp_jXWSmlbdh4g',\n",
       "  'interval': {'type': 'SequenceInterval',\n",
       "   'start': {'type': 'Number', 'value': 27453448},\n",
       "   'end': {'type': 'Number', 'value': 27453449}}},\n",
       " 'state': {'type': 'LiteralSequenceExpression', 'sequence': 'T'}}"
      ]
     },
     "execution_count": 10,
     "metadata": {},
     "output_type": "execute_result"
    }
   ],
   "source": [
    "# Creating a VRS object \n",
    "start = 27453448\n",
    "end = 27453449\n",
    "refseq = \"NC_000002.12\"\n",
    "alt_seq = \"T\"\n",
    "\n",
    "interval = models.SequenceInterval(\n",
    "    start=models.Number(value=start),\n",
    "    end=models.Number(value=end)\n",
    ")\n",
    "location = models.SequenceLocation(\n",
    "    sequence_id=f\"refseq:{refseq}\",\n",
    "    interval=interval\n",
    ")\n",
    "\n",
    "state = models.LiteralSequenceExpression(sequence=alt_seq)\n",
    "allele = models.Allele(location=location, state=state)\n",
    "norm_allele = norm.post_normalize_allele(allele)\n",
    "\n",
    "norm_allele.as_dict()"
   ]
  },
  {
   "cell_type": "code",
   "execution_count": 11,
   "metadata": {},
   "outputs": [],
   "source": [
    "from src.moldeftranslator.allele_translator import VrsFhirAlleleTranslation\n",
    "alleleTrans = VrsFhirAlleleTranslation()"
   ]
  },
  {
   "cell_type": "code",
   "execution_count": 12,
   "metadata": {},
   "outputs": [
    {
     "name": "stdout",
     "output_type": "stream",
     "text": [
      "<class 'src.profiles.alleleprofile.AlleleProfile'>\n"
     ]
    },
    {
     "data": {
      "text/plain": [
       "{'resourceType': 'MolecularDefinition',\n",
       " 'identifier': [{'value': 'ga4gh:VA.fXvhngewkkyVwzEeSJRr5tro8Jcol6Q-',\n",
       "   'assigner': {'display': 'Global Alliance for Genomics and Health'}}],\n",
       " 'moleculeType': {'coding': [{'system': 'http://hl7.org/fhir/sequence-type',\n",
       "    'code': 'dna',\n",
       "    'display': 'DNA Sequence'}]},\n",
       " 'location': [{'sequenceLocation': {'sequenceContext': {'display': 'NC_000002.12'},\n",
       "    'coordinateInterval': {'coordinateSystem': {'system': {'coding': [{'system': 'http://loinc.org',\n",
       "         'code': 'LA30100-4',\n",
       "         'display': '0-based interbase'}]}},\n",
       "     'startQuantity': {'value': Decimal('27453448')},\n",
       "     'endQuantity': {'value': Decimal('27453449')}}}}],\n",
       " 'representation': [{'literal': {'value': 'T'}}]}"
      ]
     },
     "execution_count": 12,
     "metadata": {},
     "output_type": "execute_result"
    }
   ],
   "source": [
    "# Translating the normalized allele into an allele profile\n",
    "allele_profile = alleleTrans.vrs_allele_to_allele_profile(norm_allele)\n",
    "\n",
    "print(type(allele_profile))\n",
    "allele_profile.model_dump()"
   ]
  },
  {
   "cell_type": "code",
   "execution_count": 13,
   "metadata": {},
   "outputs": [
    {
     "data": {
      "text/plain": [
       "{'_id': 'ga4gh:VA.BAzdGf6SGQgUBZCADrRGSS61qYzhDWgy',\n",
       " 'type': 'Allele',\n",
       " 'location': {'_id': 'ga4gh:VSL.CFA82oReGyKLEaLcmWDyzOkd3L8nhvDV',\n",
       "  'type': 'SequenceLocation',\n",
       "  'sequence_id': 'ga4gh:SQ.yC_0RBj3fgBlvgyAuycbzdubtLxq-rE0',\n",
       "  'interval': {'type': 'SequenceInterval',\n",
       "   'start': {'type': 'Number', 'value': 1510945},\n",
       "   'end': {'type': 'Number', 'value': 1510947}}},\n",
       " 'state': {'type': 'LiteralSequenceExpression', 'sequence': ''}}"
      ]
     },
     "execution_count": 13,
     "metadata": {},
     "output_type": "execute_result"
    }
   ],
   "source": [
    "start = 1510945\n",
    "end = 1510947\n",
    "refseq = \"NC_000016.10\"\n",
    "alt_seq = \"\"\n",
    "\n",
    "interval = models.SequenceInterval(\n",
    "    start=models.Number(value=start),\n",
    "    end=models.Number(value=end)\n",
    ")\n",
    "location = models.SequenceLocation(\n",
    "    sequence_id=f\"refseq:{refseq}\",\n",
    "    interval=interval\n",
    ")\n",
    "\n",
    "state = models.LiteralSequenceExpression(sequence=alt_seq)\n",
    "allele2 = models.Allele(location=location, state=state)\n",
    "norm_allele2 = norm.post_normalize_allele(allele2)\n",
    "\n",
    "norm_allele2.as_dict()"
   ]
  },
  {
   "cell_type": "code",
   "execution_count": 14,
   "metadata": {},
   "outputs": [
    {
     "name": "stdout",
     "output_type": "stream",
     "text": [
      "<class 'src.profiles.alleleprofile.AlleleProfile'>\n"
     ]
    },
    {
     "data": {
      "text/plain": [
       "{'resourceType': 'MolecularDefinition',\n",
       " 'identifier': [{'value': 'ga4gh:VA.BAzdGf6SGQgUBZCADrRGSS61qYzhDWgy',\n",
       "   'assigner': {'display': 'Global Alliance for Genomics and Health'}}],\n",
       " 'moleculeType': {'coding': [{'system': 'http://hl7.org/fhir/sequence-type',\n",
       "    'code': 'dna',\n",
       "    'display': 'DNA Sequence'}]},\n",
       " 'location': [{'sequenceLocation': {'sequenceContext': {'display': 'NC_000016.10'},\n",
       "    'coordinateInterval': {'coordinateSystem': {'system': {'coding': [{'system': 'http://loinc.org',\n",
       "         'code': 'LA30100-4',\n",
       "         'display': '0-based interbase'}]}},\n",
       "     'startQuantity': {'value': Decimal('1510945')},\n",
       "     'endQuantity': {'value': Decimal('1510947')}}}}],\n",
       " 'representation': [{'literal': {'value': ' '}}]}"
      ]
     },
     "execution_count": 14,
     "metadata": {},
     "output_type": "execute_result"
    }
   ],
   "source": [
    "# Translating the normalized allele into an allele profile\n",
    "allele_profile2 = alleleTrans.vrs_allele_to_allele_profile(norm_allele2)\n",
    "\n",
    "print(type(allele_profile2))\n",
    "allele_profile2.model_dump()"
   ]
  }
 ],
 "metadata": {
  "kernelspec": {
   "display_name": "venv",
   "language": "python",
   "name": "python3"
  },
  "language_info": {
   "codemirror_mode": {
    "name": "ipython",
    "version": 3
   },
   "file_extension": ".py",
   "mimetype": "text/x-python",
   "name": "python",
   "nbconvert_exporter": "python",
   "pygments_lexer": "ipython3",
   "version": "3.11.5"
  }
 },
 "nbformat": 4,
 "nbformat_minor": 2
}
