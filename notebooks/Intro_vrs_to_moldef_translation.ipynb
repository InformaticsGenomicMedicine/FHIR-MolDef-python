{
 "cells": [
  {
   "cell_type": "markdown",
   "metadata": {},
   "source": [
    "#### Notebook Goal: Translate VRS (version 1.3) Objects into AlleleProfiles\n",
    "\n",
    "- This notebook demonstrates the use of the vrs-python package to create VRS Allele objects.\n",
    "    - For more information about VRS, refer to the official documentation: [VRS Documentation (version 1.3)](https://vrs.ga4gh.org/en/1.3/).  \n",
    "- Once the VRS objects are created, they can be translated into FHIR AlleleProfiles using the `vrs_allele_to_allele_profile` method from the `VrsFhirAlleleTranslation` class. This method performs a one-directional conversion from VRS to FHIR AlleleProfiles.\n",
    "- The notebook includes examples of various types of genetic variations, such as deletions, insertions, substitutions, identities, and duplications.\n"
   ]
  },
  {
   "cell_type": "code",
   "execution_count": 20,
   "metadata": {},
   "outputs": [],
   "source": [
    "# Import from vrs-python in order to create a vrs object\n",
    "from ga4gh.vrs import models\n",
    "from normalize.allele_normalizer import AlleleNormalizer\n",
    "norm = AlleleNormalizer()"
   ]
  },
  {
   "cell_type": "code",
   "execution_count": 21,
   "metadata": {},
   "outputs": [],
   "source": [
    "#transalte normalized vrs objects into Allele Profiles\n",
    "from moldeftranslator.allele_translator import VrsFhirAlleleTranslation\n",
    "alleleTrans = VrsFhirAlleleTranslation()"
   ]
  },
  {
   "cell_type": "code",
   "execution_count": 22,
   "metadata": {},
   "outputs": [
    {
     "data": {
      "text/plain": [
       "{'_id': 'ga4gh:VA.BmF3zr2l6XLpLaK8GInM6Q3Emc3JyPD3',\n",
       " 'type': 'Allele',\n",
       " 'location': {'_id': 'ga4gh:VSL.i6Of9s2jVDuJ4vwU6sCeG-jT7ygmlfx6',\n",
       "  'type': 'SequenceLocation',\n",
       "  'sequence_id': 'ga4gh:SQ.Ya6Rs7DHhDeg7YaOSg1EoNi3U_nQ9SvO',\n",
       "  'interval': {'type': 'SequenceInterval',\n",
       "   'start': {'type': 'Number', 'value': 1014263},\n",
       "   'end': {'type': 'Number', 'value': 1014265}}},\n",
       " 'state': {'type': 'LiteralSequenceExpression', 'sequence': 'C'}}"
      ]
     },
     "execution_count": 22,
     "metadata": {},
     "output_type": "execute_result"
    }
   ],
   "source": [
    "# Creating the VRS object and then normalizing it.\n",
    "# Example 1 - Deletion origin: \"NC_000001.11:g.1014265del\"\n",
    "start = 1014263\n",
    "end = 1014265\n",
    "refseq = \"NC_000001.11\"\n",
    "alt_seq = \"C\"\n",
    "\n",
    "interval = models.SequenceInterval(\n",
    "    start=models.Number(value=start),\n",
    "    end=models.Number(value=end)\n",
    ")\n",
    "location = models.SequenceLocation(\n",
    "    sequence_id=f\"refseq:{refseq}\",\n",
    "    interval=interval\n",
    ")\n",
    "\n",
    "state = models.LiteralSequenceExpression(sequence=alt_seq)\n",
    "del_example_1 = models.Allele(location=location, state=state)\n",
    "norm_del_example_1 = norm.post_normalize_allele(del_example_1)\n",
    "norm_del_example_1.as_dict()\n"
   ]
  },
  {
   "cell_type": "code",
   "execution_count": 23,
   "metadata": {},
   "outputs": [
    {
     "name": "stdout",
     "output_type": "stream",
     "text": [
      "<class 'profiles.alleleprofile.AlleleProfile'>\n"
     ]
    },
    {
     "data": {
      "text/plain": [
       "{'resourceType': 'MolecularDefinition',\n",
       " 'identifier': [{'value': 'ga4gh:VA.BmF3zr2l6XLpLaK8GInM6Q3Emc3JyPD3',\n",
       "   'assigner': {'display': 'Global Alliance for Genomics and Health'}}],\n",
       " 'moleculeType': {'coding': [{'system': 'http://hl7.org/fhir/sequence-type',\n",
       "    'code': 'dna',\n",
       "    'display': 'DNA Sequence'}]},\n",
       " 'location': [{'sequenceLocation': {'sequenceContext': {'display': 'NC_000001.11'},\n",
       "    'coordinateInterval': {'coordinateSystem': {'system': {'coding': [{'system': 'http://loinc.org',\n",
       "         'code': 'LA30100-4',\n",
       "         'display': '0-based interbase'}]}},\n",
       "     'startQuantity': {'value': Decimal('1014263')},\n",
       "     'endQuantity': {'value': Decimal('1014265')}}}}],\n",
       " 'representation': [{'literal': {'value': 'C'}}]}"
      ]
     },
     "execution_count": 23,
     "metadata": {},
     "output_type": "execute_result"
    }
   ],
   "source": [
    "# Translating the normalized allele into an allele profile\n",
    "allele_profile_del_example = alleleTrans.vrs_allele_to_allele_profile(norm_del_example_1)\n",
    "\n",
    "print(type(allele_profile_del_example))\n",
    "allele_profile_del_example.model_dump()"
   ]
  },
  {
   "cell_type": "code",
   "execution_count": 24,
   "metadata": {},
   "outputs": [],
   "source": [
    "# Creating the VRS object and then normalizing it.\n",
    "# Example 2 - Deletion origin: \"NC_000016.10:g.1510946_1510947del\"\n",
    "start = 1510945\n",
    "end = 1510947\n",
    "refseq = \"NC_000001.11\"\n",
    "alt_seq = \"\"\n",
    "\n",
    "interval = models.SequenceInterval(\n",
    "    start=models.Number(value=start),\n",
    "    end=models.Number(value=end)\n",
    ")\n",
    "location = models.SequenceLocation(\n",
    "    sequence_id=f\"refseq:{refseq}\",\n",
    "    interval=interval\n",
    ")\n",
    "\n",
    "state = models.LiteralSequenceExpression(sequence=alt_seq)\n",
    "del_example_2 = models.Allele(location=location, state=state)\n",
    "norm_del_example_2 = norm.post_normalize_allele(del_example_2)\n"
   ]
  },
  {
   "cell_type": "code",
   "execution_count": 25,
   "metadata": {},
   "outputs": [
    {
     "name": "stdout",
     "output_type": "stream",
     "text": [
      "<class 'profiles.alleleprofile.AlleleProfile'>\n"
     ]
    },
    {
     "data": {
      "text/plain": [
       "{'resourceType': 'MolecularDefinition',\n",
       " 'identifier': [{'value': 'ga4gh:VA.qwFzYgeGLgdWCqP37Or25T8CLCsy-Z1e',\n",
       "   'assigner': {'display': 'Global Alliance for Genomics and Health'}}],\n",
       " 'moleculeType': {'coding': [{'system': 'http://hl7.org/fhir/sequence-type',\n",
       "    'code': 'dna',\n",
       "    'display': 'DNA Sequence'}]},\n",
       " 'location': [{'sequenceLocation': {'sequenceContext': {'display': 'NC_000001.11'},\n",
       "    'coordinateInterval': {'coordinateSystem': {'system': {'coding': [{'system': 'http://loinc.org',\n",
       "         'code': 'LA30100-4',\n",
       "         'display': '0-based interbase'}]}},\n",
       "     'startQuantity': {'value': Decimal('1510945')},\n",
       "     'endQuantity': {'value': Decimal('1510947')}}}}],\n",
       " 'representation': [{'literal': {'value': ' '}}]}"
      ]
     },
     "execution_count": 25,
     "metadata": {},
     "output_type": "execute_result"
    }
   ],
   "source": [
    "# Translating the normalized allele into an allele profile\n",
    "allele_profile_del_example_2 = alleleTrans.vrs_allele_to_allele_profile(norm_del_example_2)\n",
    "\n",
    "print(type(allele_profile_del_example_2))\n",
    "allele_profile_del_example_2.model_dump()"
   ]
  },
  {
   "cell_type": "code",
   "execution_count": 26,
   "metadata": {},
   "outputs": [],
   "source": [
    "# Creating the VRS object and then normalizing it.\n",
    "# Example 3 - Insertion origin: \"NC_000001.11:g.113901365_113901366insATA\"\n",
    "start = 113901365\n",
    "end = 113901365\n",
    "refseq = \"NC_000001.11\"\n",
    "alt_seq = \"ATA\"\n",
    "\n",
    "interval = models.SequenceInterval(\n",
    "    start=models.Number(value=start),\n",
    "    end=models.Number(value=end)\n",
    ")\n",
    "location = models.SequenceLocation(\n",
    "    sequence_id=f\"refseq:{refseq}\",\n",
    "    interval=interval\n",
    ")\n",
    "\n",
    "state = models.LiteralSequenceExpression(sequence=alt_seq)\n",
    "insertion_example= models.Allele(location=location, state=state)\n",
    "norm_insertion_example= norm.post_normalize_allele(insertion_example)\n"
   ]
  },
  {
   "cell_type": "code",
   "execution_count": 27,
   "metadata": {},
   "outputs": [
    {
     "name": "stdout",
     "output_type": "stream",
     "text": [
      "<class 'profiles.alleleprofile.AlleleProfile'>\n"
     ]
    },
    {
     "data": {
      "text/plain": [
       "{'resourceType': 'MolecularDefinition',\n",
       " 'identifier': [{'value': 'ga4gh:VA.J9BMdktHGGjE843oD0T_bwUV6WxojkCW',\n",
       "   'assigner': {'display': 'Global Alliance for Genomics and Health'}}],\n",
       " 'moleculeType': {'coding': [{'system': 'http://hl7.org/fhir/sequence-type',\n",
       "    'code': 'dna',\n",
       "    'display': 'DNA Sequence'}]},\n",
       " 'location': [{'sequenceLocation': {'sequenceContext': {'display': 'NC_000001.11'},\n",
       "    'coordinateInterval': {'coordinateSystem': {'system': {'coding': [{'system': 'http://loinc.org',\n",
       "         'code': 'LA30100-4',\n",
       "         'display': '0-based interbase'}]}},\n",
       "     'startQuantity': {'value': Decimal('113901365')},\n",
       "     'endQuantity': {'value': Decimal('113901365')}}}}],\n",
       " 'representation': [{'literal': {'value': 'ATA'}}]}"
      ]
     },
     "execution_count": 27,
     "metadata": {},
     "output_type": "execute_result"
    }
   ],
   "source": [
    "# Translating the normalized allele into an allele profile\n",
    "allele_profile_insertion = alleleTrans.vrs_allele_to_allele_profile(norm_insertion_example)\n",
    "\n",
    "print(type(allele_profile_insertion))\n",
    "allele_profile_insertion.model_dump()"
   ]
  },
  {
   "cell_type": "code",
   "execution_count": 28,
   "metadata": {},
   "outputs": [],
   "source": [
    "# Creating the VRS object and then normalizing it.\n",
    "# Example 4 - Substituion origin: \"NC_000002.12:g.27453449C>T\"\n",
    "start = 27453448\n",
    "end = 27453449\n",
    "refseq = \"NC_000002.12\"\n",
    "alt_seq = \"T\"\n",
    "\n",
    "interval = models.SequenceInterval(\n",
    "    start=models.Number(value=start),\n",
    "    end=models.Number(value=end)\n",
    ")\n",
    "location = models.SequenceLocation(\n",
    "    sequence_id=f\"refseq:{refseq}\",\n",
    "    interval=interval\n",
    ")\n",
    "\n",
    "state = models.LiteralSequenceExpression(sequence=alt_seq)\n",
    "sub_example= models.Allele(location=location, state=state)\n",
    "norm_sub_example= norm.post_normalize_allele(sub_example)\n"
   ]
  },
  {
   "cell_type": "code",
   "execution_count": 29,
   "metadata": {},
   "outputs": [
    {
     "name": "stdout",
     "output_type": "stream",
     "text": [
      "<class 'profiles.alleleprofile.AlleleProfile'>\n"
     ]
    },
    {
     "data": {
      "text/plain": [
       "{'resourceType': 'MolecularDefinition',\n",
       " 'identifier': [{'value': 'ga4gh:VA.fXvhngewkkyVwzEeSJRr5tro8Jcol6Q-',\n",
       "   'assigner': {'display': 'Global Alliance for Genomics and Health'}}],\n",
       " 'moleculeType': {'coding': [{'system': 'http://hl7.org/fhir/sequence-type',\n",
       "    'code': 'dna',\n",
       "    'display': 'DNA Sequence'}]},\n",
       " 'location': [{'sequenceLocation': {'sequenceContext': {'display': 'NC_000002.12'},\n",
       "    'coordinateInterval': {'coordinateSystem': {'system': {'coding': [{'system': 'http://loinc.org',\n",
       "         'code': 'LA30100-4',\n",
       "         'display': '0-based interbase'}]}},\n",
       "     'startQuantity': {'value': Decimal('27453448')},\n",
       "     'endQuantity': {'value': Decimal('27453449')}}}}],\n",
       " 'representation': [{'literal': {'value': 'T'}}]}"
      ]
     },
     "execution_count": 29,
     "metadata": {},
     "output_type": "execute_result"
    }
   ],
   "source": [
    "# Translating the normalized allele into an allele profile\n",
    "allele_profile_sub_example = alleleTrans.vrs_allele_to_allele_profile(norm_sub_example)\n",
    "\n",
    "print(type(allele_profile_sub_example))\n",
    "allele_profile_sub_example.model_dump()"
   ]
  },
  {
   "cell_type": "code",
   "execution_count": 30,
   "metadata": {},
   "outputs": [],
   "source": [
    "# Creating the VRS object and then normalizing it.\n",
    "# Example 5 - Identity origin: \"NC_000004.12:g.88007816=\"\n",
    "start = 88007815\n",
    "end = 88007816\n",
    "refseq = \"NC_000004.12\"\n",
    "alt_seq = \"G\"\n",
    "\n",
    "interval = models.SequenceInterval(\n",
    "    start=models.Number(value=start),\n",
    "    end=models.Number(value=end)\n",
    ")\n",
    "location = models.SequenceLocation(\n",
    "    sequence_id=f\"refseq:{refseq}\",\n",
    "    interval=interval\n",
    ")\n",
    "\n",
    "state = models.LiteralSequenceExpression(sequence=alt_seq)\n",
    "identity_example= models.Allele(location=location, state=state)\n",
    "norm_identity_example= norm.post_normalize_allele(identity_example)\n"
   ]
  },
  {
   "cell_type": "code",
   "execution_count": 31,
   "metadata": {},
   "outputs": [
    {
     "name": "stdout",
     "output_type": "stream",
     "text": [
      "<class 'profiles.alleleprofile.AlleleProfile'>\n"
     ]
    },
    {
     "data": {
      "text/plain": [
       "{'resourceType': 'MolecularDefinition',\n",
       " 'identifier': [{'value': 'ga4gh:VA.eT7IpRxd5CiyJEq8sE6AgobdwgY62NxG',\n",
       "   'assigner': {'display': 'Global Alliance for Genomics and Health'}}],\n",
       " 'moleculeType': {'coding': [{'system': 'http://hl7.org/fhir/sequence-type',\n",
       "    'code': 'dna',\n",
       "    'display': 'DNA Sequence'}]},\n",
       " 'location': [{'sequenceLocation': {'sequenceContext': {'display': 'NC_000004.12'},\n",
       "    'coordinateInterval': {'coordinateSystem': {'system': {'coding': [{'system': 'http://loinc.org',\n",
       "         'code': 'LA30100-4',\n",
       "         'display': '0-based interbase'}]}},\n",
       "     'startQuantity': {'value': Decimal('88007815')},\n",
       "     'endQuantity': {'value': Decimal('88007816')}}}}],\n",
       " 'representation': [{'literal': {'value': 'G'}}]}"
      ]
     },
     "execution_count": 31,
     "metadata": {},
     "output_type": "execute_result"
    }
   ],
   "source": [
    "# Translating the normalized allele into an allele profile\n",
    "allele_profile_identity_example = alleleTrans.vrs_allele_to_allele_profile(norm_identity_example)\n",
    "\n",
    "print(type(allele_profile_identity_example))\n",
    "allele_profile_identity_example.model_dump()"
   ]
  },
  {
   "cell_type": "code",
   "execution_count": 32,
   "metadata": {},
   "outputs": [],
   "source": [
    "# Creating the VRS object and then normalizing it.\n",
    "# Example 6 - Duplication origin: \"NC_000001.11:g.5880118_5880127dup\"\n",
    "start = 5880117\n",
    "end = 5880127\n",
    "refseq = \"NC_000001.11\"\n",
    "alt_seq = \"TGAGCTTCCATGAGCTTCCA\"\n",
    "\n",
    "interval = models.SequenceInterval(\n",
    "    start=models.Number(value=start),\n",
    "    end=models.Number(value=end)\n",
    ")\n",
    "location = models.SequenceLocation(\n",
    "    sequence_id=f\"refseq:{refseq}\",\n",
    "    interval=interval\n",
    ")\n",
    "\n",
    "state = models.LiteralSequenceExpression(sequence=alt_seq)\n",
    "dup_example= models.Allele(location=location, state=state)\n",
    "norm_dup_example= norm.post_normalize_allele(dup_example)\n"
   ]
  },
  {
   "cell_type": "code",
   "execution_count": 33,
   "metadata": {},
   "outputs": [
    {
     "name": "stdout",
     "output_type": "stream",
     "text": [
      "<class 'profiles.alleleprofile.AlleleProfile'>\n"
     ]
    },
    {
     "data": {
      "text/plain": [
       "{'resourceType': 'MolecularDefinition',\n",
       " 'identifier': [{'value': 'ga4gh:VA.OpO3jwlmnhvpmEs2v9orWvMIa7UPb1To',\n",
       "   'assigner': {'display': 'Global Alliance for Genomics and Health'}}],\n",
       " 'moleculeType': {'coding': [{'system': 'http://hl7.org/fhir/sequence-type',\n",
       "    'code': 'dna',\n",
       "    'display': 'DNA Sequence'}]},\n",
       " 'location': [{'sequenceLocation': {'sequenceContext': {'display': 'NC_000001.11'},\n",
       "    'coordinateInterval': {'coordinateSystem': {'system': {'coding': [{'system': 'http://loinc.org',\n",
       "         'code': 'LA30100-4',\n",
       "         'display': '0-based interbase'}]}},\n",
       "     'startQuantity': {'value': Decimal('5880117')},\n",
       "     'endQuantity': {'value': Decimal('5880127')}}}}],\n",
       " 'representation': [{'literal': {'value': 'TGAGCTTCCATGAGCTTCCA'}}]}"
      ]
     },
     "execution_count": 33,
     "metadata": {},
     "output_type": "execute_result"
    }
   ],
   "source": [
    "# Translating the normalized allele into an allele profile\n",
    "allele_profile_dup_example = alleleTrans.vrs_allele_to_allele_profile(norm_dup_example)\n",
    "\n",
    "print(type(allele_profile_dup_example))\n",
    "allele_profile_dup_example.model_dump()"
   ]
  }
 ],
 "metadata": {
  "kernelspec": {
   "display_name": "venv",
   "language": "python",
   "name": "python3"
  },
  "language_info": {
   "codemirror_mode": {
    "name": "ipython",
    "version": 3
   },
   "file_extension": ".py",
   "mimetype": "text/x-python",
   "name": "python",
   "nbconvert_exporter": "python",
   "pygments_lexer": "ipython3",
   "version": "3.11.5"
  }
 },
 "nbformat": 4,
 "nbformat_minor": 2
}
