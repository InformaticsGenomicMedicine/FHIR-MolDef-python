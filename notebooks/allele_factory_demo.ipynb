{
 "cells": [
  {
   "cell_type": "markdown",
   "metadata": {},
   "source": [
    "### Overview of the Jupyter Notebook and Utils Module\n",
    "\n",
    "I have developed several **Jupyter Notebooks** that demonstrate key functionalities related to **FHIR and VRS** schema interactions, including:  \n",
    "\n",
    "- Creating a **FHIR AlleleProfile**  \n",
    "- Creating a **FHIR SequenceProfile**  \n",
    "- Constructing a **MolecularDefinition** resource  \n",
    "- Performing **bidirectional translation** between **VRS and FHIR**  \n",
    "\n",
    "However, these notebooks require users to have a **working knowledge of Jupyter Notebooks, Python, and the schema of both standards (FHIR & VRS)**.  \n",
    "This notebook simplifies our workflow by reducing the need for extensive background knowledge. It provides a structured approach for efficiently generating and translating data between FHIR and VRS."
   ]
  },
  {
   "cell_type": "markdown",
   "metadata": {},
   "source": [
    "### Introducing the Utils Module: `allele_factory.py`\n",
    "\n",
    "To streamline the creation of AlleleProfile objects, we developed the **`allele_factory.py`** module, located in the **utils directory**. This module simplifies the process by allowing users to generate **FHIR AlleleProfile** and **VRS Allele** objects with only **five key attributes**.  \n",
    "\n",
    "### Functions in `allele_factory.py`  \n",
    "\n",
    "#### **`create_fhir_allele()` – Generates a FHIR AlleleProfile**  \n",
    "\n",
    "This function constructs a **FHIR AlleleProfile** using the following attributes:  \n",
    "\n",
    "- `context_sequence_id` (**str**) → Accession number of the reference sequence. Supported prefixes include: (\"NC_\", \"NG_\", \"NM_\", \"NR_\", \"NP_\")\n",
    "- `start` (**int**) → Start position of the allele  \n",
    "- `end` (**int**) → End position of the allele  \n",
    "- `allele_state` (**str**) → Literal value of the allele sequence state (e.g., ACGT)  \n",
    "- `id_value` (**str**, optional, default= None) → The unique identifier for the AlleleProfile instance. If not provided, it defaults to None\n",
    "\n",
    "#### **`create_vrs_allele()` – Generates a VRS Allele**  \n",
    "\n",
    "This function constructs a **VRS Allele** using the following attributes:  \n",
    "- `context_sequence_id` (**str**) → Accession number of the reference sequence. Supported prefixes include: (\"NC_\", \"NG_\", \"NM_\", \"NR_\", \"NP_\")\n",
    "- `start` (**int**) → Start position of the allele  \n",
    "- `end` (**int**) → End position of the allele  \n",
    "- `allele_state` (**str**) → Literal value of the allele sequence state (e.g., ACGT)  \n",
    "- `normalize` (**bool**, default=`True`) → Option to normalize the VRS object  "
   ]
  },
  {
   "cell_type": "markdown",
   "metadata": {},
   "source": [
    "### What This Notebook Demonstrates\n",
    "\n",
    "This notebook provides a structured **workflow** to:  \n",
    "\n",
    "1. **Set Up & Import Modules**  \n",
    "   - Load `AlleleFactory` and `VrsFhirAlleleTranslation`.  \n",
    "\n",
    "2. **Create Allele Objects**  \n",
    "   - Generate **FHIR AlleleProfiles** and **VRS Alleles** using `AlleleFactory`.  \n",
    "\n",
    "3. **Perform Bidirectional Translation**  \n",
    "   - Convert **FHIR → VRS** and **VRS → FHIR** using `VrsFhirAlleleTranslation`.  "
   ]
  },
  {
   "cell_type": "code",
   "execution_count": 8,
   "metadata": {},
   "outputs": [],
   "source": [
    "# Importing the `AlleleFactory` class from the utils module\n",
    "from utils.allele_factory import AlleleFactory\n",
    "\n",
    "# Creating an instance of `AlleleFactory` to generate FHIR and VRS AlleleProfile objects\n",
    "build_allele = AlleleFactory()"
   ]
  },
  {
   "cell_type": "code",
   "execution_count": 9,
   "metadata": {},
   "outputs": [
    {
     "data": {
      "text/plain": [
       "{'resourceType': 'MolecularDefinition',\n",
       " 'identifier': [{'value': 'example-allele-profile'}],\n",
       " 'moleculeType': {'coding': [{'system': 'http://hl7.org/fhir/sequence-type',\n",
       "    'code': 'dna',\n",
       "    'display': 'DNA Sequence'}]},\n",
       " 'location': [{'sequenceLocation': {'sequenceContext': {'display': 'NC_000002.12'},\n",
       "    'coordinateInterval': {'coordinateSystem': {'system': {'coding': [{'system': 'http://loinc.org',\n",
       "         'code': 'LA30100-4',\n",
       "         'display': '0-based interval counting'}]}},\n",
       "     'startQuantity': {'value': 27453448.0},\n",
       "     'endQuantity': {'value': 27453449.0}}}}],\n",
       " 'representation': [{'focus': {'coding': [{'system': 'http://hl7.org/fhir/moleculardefinition-focus',\n",
       "      'code': 'allele-state'}]},\n",
       "   'literal': {'value': 'T'}}]}"
      ]
     },
     "execution_count": 9,
     "metadata": {},
     "output_type": "execute_result"
    }
   ],
   "source": [
    "# Creating an HL7 FHIR AlleleProfile using the `create_fhir_allele` function\n",
    "example_allele_profile = build_allele.create_fhir_allele(\n",
    "    context_sequence_id=\"NC_000002.12\",\n",
    "    start=27453448,\n",
    "    end=27453449,\n",
    "    allele_state=\"T\",\n",
    "    id_value=\"example-allele-profile\"\n",
    ")\n",
    "\n",
    "# Converting the AlleleProfile object into a dictionary representation for easy viewing\n",
    "example_allele_profile.model_dump()"
   ]
  },
  {
   "cell_type": "code",
   "execution_count": 10,
   "metadata": {},
   "outputs": [
    {
     "data": {
      "text/plain": [
       "{'_id': 'ga4gh:VA.fXvhngewkkyVwzEeSJRr5tro8Jcol6Q-',\n",
       " 'type': 'Allele',\n",
       " 'location': {'_id': 'ga4gh:VSL.nLMbYalHO4OEI2axqkyTMCQxrH98UpDN',\n",
       "  'type': 'SequenceLocation',\n",
       "  'sequence_id': 'ga4gh:SQ.pnAqCRBrTsUoBghSD1yp_jXWSmlbdh4g',\n",
       "  'interval': {'type': 'SequenceInterval',\n",
       "   'start': {'type': 'Number', 'value': 27453448},\n",
       "   'end': {'type': 'Number', 'value': 27453449}}},\n",
       " 'state': {'type': 'LiteralSequenceExpression', 'sequence': 'T'}}"
      ]
     },
     "execution_count": 10,
     "metadata": {},
     "output_type": "execute_result"
    }
   ],
   "source": [
    "# Creating a GA4GH VRS Allele (Version 1.3) using the `create_vrs_allele` function\n",
    "example_vrs_allele = build_allele.create_vrs_allele(\n",
    "    context_sequence_id=\"NC_000002.12\",\n",
    "    start=27453448,\n",
    "    end=27453449,\n",
    "    allele_state=\"T\",\n",
    "    normalize=True\n",
    ")\n",
    "\n",
    "# Converting the VRS Allele object into a dictionary representation for easy viewing\n",
    "example_vrs_allele.as_dict()"
   ]
  },
  {
   "cell_type": "code",
   "execution_count": 11,
   "metadata": {},
   "outputs": [],
   "source": [
    "# Importing the `VrsFhirAlleleTranslation` class from the `moldeftranslator` module\n",
    "from moldeftranslator.allele_translator import VrsFhirAlleleTranslation\n",
    "\n",
    "# Creating an instance of `VrsFhirAlleleTranslation` to enable bidirectional translation \n",
    "# between GA4GH VRS and HL7 FHIR AlleleProfile representations\n",
    "alleleTranslator= VrsFhirAlleleTranslation()"
   ]
  },
  {
   "cell_type": "code",
   "execution_count": 12,
   "metadata": {},
   "outputs": [
    {
     "name": "stdout",
     "output_type": "stream",
     "text": [
      "<class 'profiles.alleleprofile.AlleleProfile'>\n"
     ]
    },
    {
     "data": {
      "text/plain": [
       "{'resourceType': 'MolecularDefinition',\n",
       " 'identifier': [{'value': 'ga4gh:VA.fXvhngewkkyVwzEeSJRr5tro8Jcol6Q-',\n",
       "   'assigner': {'display': 'Global Alliance for Genomics and Health'}}],\n",
       " 'moleculeType': {'coding': [{'system': 'http://hl7.org/fhir/sequence-type',\n",
       "    'code': 'dna',\n",
       "    'display': 'DNA Sequence'}]},\n",
       " 'location': [{'sequenceLocation': {'sequenceContext': {'display': 'NC_000002.12'},\n",
       "    'coordinateInterval': {'coordinateSystem': {'system': {'coding': [{'system': 'http://loinc.org',\n",
       "         'code': 'LA30100-4',\n",
       "         'display': '0-based interval counting'}]}},\n",
       "     'startQuantity': {'value': 27453448.0},\n",
       "     'endQuantity': {'value': 27453449.0}}}}],\n",
       " 'representation': [{'focus': {'coding': [{'system': 'http://hl7.org/fhir/moleculardefinition-focus',\n",
       "      'code': 'allele-state'}]},\n",
       "   'literal': {'value': 'T'}}]}"
      ]
     },
     "execution_count": 12,
     "metadata": {},
     "output_type": "execute_result"
    }
   ],
   "source": [
    "# Translating a GA4GH VRS Allele into an HL7 FHIR AlleleProfile\n",
    "# This function takes a VRS Allele object and converts it into its corresponding FHIR representation\n",
    "vrs_to_fhir_translation_example = alleleTranslator.vrs_allele_to_allele_profile(example_vrs_allele)\n",
    "\n",
    "# Printing the type of the translated object to confirm the output class\n",
    "print(type(vrs_to_fhir_translation_example))\n",
    "\n",
    "# Converting the translated AlleleProfile object into a dictionary representation for easy viewing\n",
    "vrs_to_fhir_translation_example.model_dump()"
   ]
  },
  {
   "cell_type": "code",
   "execution_count": 13,
   "metadata": {},
   "outputs": [
    {
     "name": "stdout",
     "output_type": "stream",
     "text": [
      "<class 'abc.Allele'>\n"
     ]
    },
    {
     "data": {
      "text/plain": [
       "{'_id': 'ga4gh:VA.fXvhngewkkyVwzEeSJRr5tro8Jcol6Q-',\n",
       " 'type': 'Allele',\n",
       " 'location': {'_id': 'ga4gh:VSL.nLMbYalHO4OEI2axqkyTMCQxrH98UpDN',\n",
       "  'type': 'SequenceLocation',\n",
       "  'sequence_id': 'ga4gh:SQ.pnAqCRBrTsUoBghSD1yp_jXWSmlbdh4g',\n",
       "  'interval': {'type': 'SequenceInterval',\n",
       "   'start': {'type': 'Number', 'value': 27453448},\n",
       "   'end': {'type': 'Number', 'value': 27453449}}},\n",
       " 'state': {'type': 'LiteralSequenceExpression', 'sequence': 'T'}}"
      ]
     },
     "execution_count": 13,
     "metadata": {},
     "output_type": "execute_result"
    }
   ],
   "source": [
    "# Translating an HL7 FHIR AlleleProfile into a GA4GH VRS Allele\n",
    "# This function converts a FHIR AlleleProfile object into its corresponding VRS representation\n",
    "fhir_to_vrs_translation_example = alleleTranslator.translate_allele_profile_to_vrs_allele(example_allele_profile)\n",
    "\n",
    "# Printing the type of the translated object to confirm the output class\n",
    "print(type(fhir_to_vrs_translation_example))\n",
    "\n",
    "# Converting the translated VRS Allele object into a dictionary representation for easy viewing\n",
    "fhir_to_vrs_translation_example.as_dict()"
   ]
  },
  {
   "cell_type": "markdown",
   "metadata": {},
   "source": [
    "### **Disclaimer on FHIR ↔ VRS Round-Trip Conversions**\n",
    "\n",
    "When converting a **FHIR MolecularDefinition** object into a **GA4GH VRS Allele** object and then converting it back into **FHIR**, the resulting FHIR object will not be **exactly identical** to the original.\n",
    "\n",
    "#### **Key Differences**\n",
    "- The **identifier** field will change because the second FHIR object will now contain a **computed GA4GH VRS identifier** rather than the original identifier.\n",
    "- The **assigner** field may also be added to reflect the **source of the VRS-computed identifier**.\n",
    "\n",
    "This means that if you compare the **initial FHIR object** with the **final FHIR object** after a round-trip conversion through VRS, you will see differences in these fields.\n",
    "\n",
    "#### **Consistency in VRS ↔ FHIR ↔ VRS Conversions**\n",
    "However, if you start with a **VRS Allele object**, convert it into **FHIR MolecularDefinition**, and then convert it back into **VRS**, the two **VRS objects will be identical**.\n"
   ]
  },
  {
   "cell_type": "markdown",
   "metadata": {},
   "source": [
    "### Conclusion\n",
    "\n",
    "For a more detailed exploration of the implementation, refer to the other notebooks that provide an in-depth, step-by-step guide on creating these objects and performing translations between FHIR and VRS.  "
   ]
  }
 ],
 "metadata": {
  "kernelspec": {
   "display_name": "venv",
   "language": "python",
   "name": "python3"
  },
  "language_info": {
   "codemirror_mode": {
    "name": "ipython",
    "version": 3
   },
   "file_extension": ".py",
   "mimetype": "text/x-python",
   "name": "python",
   "nbconvert_exporter": "python",
   "pygments_lexer": "ipython3",
   "version": "3.11.5"
  }
 },
 "nbformat": 4,
 "nbformat_minor": 2
}
