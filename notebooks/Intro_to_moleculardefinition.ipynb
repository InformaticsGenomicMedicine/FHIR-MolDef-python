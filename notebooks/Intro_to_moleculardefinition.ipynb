{
 "cells": [
  {
   "cell_type": "markdown",
   "metadata": {},
   "source": [
    "#### Notebook Goal: Understanding and Constructing the MolecularDefinition Class"
   ]
  },
  {
   "cell_type": "code",
   "execution_count": 1,
   "metadata": {},
   "outputs": [],
   "source": [
    "# An example JSON object named cyp2c19_literal is introduced to serve as input for the operations performed later in the notebook.\n",
    "# Example Data point: https://build.fhir.org/branches/cg-im-moldef_work_in_progress_2/moleculardefinition-example-allelesliced-cyp2c19-literal-only.json.html\n",
    "cyp2c19_literal = {\n",
    "  \"resourceType\" : \"MolecularDefinition\",\n",
    "  \"id\" : \"example-allelesliced-cyp2c19-literal-only\",\n",
    "  \"meta\" : {\n",
    "    \"profile\" : [\"http://hl7.org/fhir/StructureDefinition/allelesliced\"]\n",
    "  },\n",
    "  \"moleculeType\" : {\n",
    "    \"coding\" : [{\n",
    "      \"system\" : \"http://hl7.org/fhir/sequence-type\",\n",
    "      \"code\" : \"dna\",\n",
    "      \"display\" : \"DNA Sequence\"\n",
    "    }]\n",
    "  },\n",
    "  \"location\" : [{\n",
    "    \"sequenceLocation\" : {\n",
    "      \"sequenceContext\" : {\n",
    "        \"reference\" : \"MolecularDefinition/example-sequence-nm0007694-url\",\n",
    "        \"type\" : \"MolecularDefinition\",\n",
    "        \"display\" : \"Starting Sequence Resource: (CYP2C19), mRNA, NM_000769.4\"\n",
    "      },\n",
    "      \"coordinateInterval\" : {\n",
    "        \"coordinateSystem\" : {\n",
    "          \"system\" : {\n",
    "            \"coding\" : [{\n",
    "              \"system\" : \"http://loinc.org\",\n",
    "              \"code\" : \"LA30100-4\",\n",
    "              \"display\" : \"0-based interval counting\"\n",
    "            }],\n",
    "            \"text\" : \"0-based interval counting\"\n",
    "          }\n",
    "        },\n",
    "        \"startQuantity\" : {\n",
    "          \"value\" : 1015\n",
    "        },\n",
    "        \"endQuantity\" : {\n",
    "          \"value\" : 1016\n",
    "        }\n",
    "      }\n",
    "    }\n",
    "  }],\n",
    "  \"representation\" : [{\n",
    "    \"focus\" : {\n",
    "      \"coding\" : [{\n",
    "        \"system\" : \"http://hl7.org/fhir/moleculardefinition-focus\",\n",
    "        \"code\" : \"allele-state\",\n",
    "        \"display\" : \"Allele State\"\n",
    "      }]\n",
    "    },\n",
    "    \"code\" : [{\n",
    "      \"coding\" : [{\n",
    "        \"system\" : \"https://www.pharmvar.org\",\n",
    "        \"code\" : \"*1\",\n",
    "        \"display\" : \"*1\"\n",
    "      }]\n",
    "    }],\n",
    "    \"literal\" : {\n",
    "      \"value\" : \"G\"\n",
    "    }\n",
    "  }]\n",
    "}"
   ]
  },
  {
   "cell_type": "markdown",
   "metadata": {},
   "source": [
    "#### 1. Using JSON Unpacking to Build MolDef\n",
    "The operation MolecularDefinition(**cyp2c19_literal) is demonstrated to show how the class can be constructed by unpacking the JSON fields directly into the class constructor."
   ]
  },
  {
   "cell_type": "code",
   "execution_count": 2,
   "metadata": {},
   "outputs": [
    {
     "data": {
      "text/plain": [
       "{'resourceType': 'MolecularDefinition',\n",
       " 'id': 'example-allelesliced-cyp2c19-literal-only',\n",
       " 'meta': {'profile': ['http://hl7.org/fhir/StructureDefinition/allelesliced']},\n",
       " 'moleculeType': {'coding': [{'system': 'http://hl7.org/fhir/sequence-type',\n",
       "    'code': 'dna',\n",
       "    'display': 'DNA Sequence'}]},\n",
       " 'location': [{'sequenceLocation': {'sequenceContext': {'reference': 'MolecularDefinition/example-sequence-nm0007694-url',\n",
       "     'type': 'MolecularDefinition',\n",
       "     'display': 'Starting Sequence Resource: (CYP2C19), mRNA, NM_000769.4'},\n",
       "    'coordinateInterval': {'coordinateSystem': {'system': {'coding': [{'system': 'http://loinc.org',\n",
       "         'code': 'LA30100-4',\n",
       "         'display': '0-based interval counting'}],\n",
       "       'text': '0-based interval counting'}},\n",
       "     'startQuantity': {'value': Decimal('1015')},\n",
       "     'endQuantity': {'value': Decimal('1016')}}}}],\n",
       " 'representation': [{'focus': {'coding': [{'system': 'http://hl7.org/fhir/moleculardefinition-focus',\n",
       "      'code': 'allele-state',\n",
       "      'display': 'Allele State'}]},\n",
       "   'code': [{'coding': [{'system': 'https://www.pharmvar.org',\n",
       "       'code': '*1',\n",
       "       'display': '*1'}]}],\n",
       "   'literal': {'value': 'G'}}]}"
      ]
     },
     "execution_count": 2,
     "metadata": {},
     "output_type": "execute_result"
    }
   ],
   "source": [
    "from moldefresource.moleculardefinition import MolecularDefinition\n",
    "MolecularDefinition(**cyp2c19_literal).model_dump()"
   ]
  },
  {
   "cell_type": "markdown",
   "metadata": {},
   "source": [
    "#### 2. Construct the MolecularDefinition class step by step in the following cells\n",
    "\n",
    "This approach breaks down the class into modular components, such as location, representation, and additional data, before combining them into a complete implementation."
   ]
  },
  {
   "cell_type": "markdown",
   "metadata": {},
   "source": [
    "##### Step 1: Defining the MolecularDefinition Location Component"
   ]
  },
  {
   "cell_type": "code",
   "execution_count": 3,
   "metadata": {},
   "outputs": [
    {
     "data": {
      "text/plain": [
       "{'sequenceLocation': {'sequenceContext': {'reference': 'MolecularDefinition/example-sequence-nm0007694-url',\n",
       "   'type': 'MolecularDefinition',\n",
       "   'display': 'Starting Sequence Resource: (CYP2C19), mRNA, NM_000769.4'},\n",
       "  'coordinateInterval': {'coordinateSystem': {'system': {'coding': [{'system': 'http://loinc.org',\n",
       "       'code': 'LA30100-4',\n",
       "       'display': '0-based interval counting'}],\n",
       "     'text': '0-based interval counting'}},\n",
       "   'startQuantity': {'value': Decimal('1015')},\n",
       "   'endQuantity': {'value': Decimal('1016')}}}}"
      ]
     },
     "execution_count": 3,
     "metadata": {},
     "output_type": "execute_result"
    }
   ],
   "source": [
    "from fhir.resources.coding import Coding\n",
    "\n",
    "coding_val = Coding(\n",
    "        system='http://loinc.org',\n",
    "        code= 'LA30100-4',\n",
    "        display= '0-based interval counting'\n",
    "    )\n",
    "\n",
    "from fhir.resources.codeableconcept import CodeableConcept\n",
    "\n",
    "codeconcept_val = CodeableConcept(\n",
    "    coding=[coding_val],\n",
    "    text = '0-based interval counting'\n",
    ")\n",
    "\n",
    "from moldefresource.moleculardefinition import MolecularDefinitionLocationSequenceLocationCoordinateIntervalCoordinateSystem\n",
    "\n",
    "MolDefLocSeqLocCoordIntCoord = MolecularDefinitionLocationSequenceLocationCoordinateIntervalCoordinateSystem(\n",
    "    system=codeconcept_val\n",
    ")\n",
    "\n",
    "from moldefresource.moleculardefinition import MolecularDefinitionLocationSequenceLocationCoordinateInterval\n",
    "from fhir.resources.quantity import Quantity\n",
    "\n",
    "MolDefLocSeqLocCoordInt = MolecularDefinitionLocationSequenceLocationCoordinateInterval(\n",
    "    coordinateSystem=MolDefLocSeqLocCoordIntCoord,\n",
    "    startQuantity=Quantity(value=1015),\n",
    "    endQuantity=Quantity(value=1016)\n",
    ")\n",
    "\n",
    "from moldefresource.moleculardefinition import MolecularDefinitionLocationSequenceLocation\n",
    "from fhir.resources.reference import Reference\n",
    "\n",
    "MolDefLocSeqLoc = MolecularDefinitionLocationSequenceLocation(\n",
    "    sequenceContext=Reference(\n",
    "        reference='MolecularDefinition/example-sequence-nm0007694-url',\n",
    "        type='MolecularDefinition',\n",
    "        display='Starting Sequence Resource: (CYP2C19), mRNA, NM_000769.4'\n",
    "    ),\n",
    "    coordinateInterval = MolDefLocSeqLocCoordInt\n",
    ")\n",
    "\n",
    "from moldefresource.moleculardefinition import MolecularDefinitionLocation\n",
    "\n",
    "MolDefLoc = MolecularDefinitionLocation(\n",
    "    sequenceLocation = MolDefLocSeqLoc\n",
    ")\n",
    "\n",
    "MolDefLoc.model_dump()"
   ]
  },
  {
   "cell_type": "markdown",
   "metadata": {},
   "source": [
    "##### Step 2: Defining the MolecularDefinition Representation Component"
   ]
  },
  {
   "cell_type": "code",
   "execution_count": 4,
   "metadata": {},
   "outputs": [
    {
     "data": {
      "text/plain": [
       "{'focus': {'coding': [{'system': 'http://hl7.org/fhir/moleculardefinition-focus',\n",
       "    'code': 'allele-state',\n",
       "    'display': 'Allele State'}]},\n",
       " 'code': [{'coding': [{'system': 'https://www.pharmvar.org',\n",
       "     'code': '*1',\n",
       "     'display': '*1'}]}],\n",
       " 'literal': {'value': 'G'}}"
      ]
     },
     "execution_count": 4,
     "metadata": {},
     "output_type": "execute_result"
    }
   ],
   "source": [
    "from moldefresource.moleculardefinition import MolecularDefinitionRepresentationLiteral\n",
    "MolDefRepLit = MolecularDefinitionRepresentationLiteral(value=\"G\")\n",
    "\n",
    "from fhir.resources.coding import Coding\n",
    "\n",
    "focus_coding_val = Coding(\n",
    "        system=\"http://hl7.org/fhir/moleculardefinition-focus\",\n",
    "        code= \"allele-state\",\n",
    "        display= \"Allele State\"\n",
    "    )\n",
    "\n",
    "from fhir.resources.codeableconcept import CodeableConcept\n",
    "\n",
    "focus_codeconcept_val = CodeableConcept(\n",
    "    coding=[focus_coding_val],\n",
    ")\n",
    "\n",
    "from fhir.resources.coding import Coding\n",
    "\n",
    "code_coding_val = Coding(\n",
    "        system=\"https://www.pharmvar.org\",\n",
    "        code= \"*1\",\n",
    "        display= \"*1\"\n",
    "    )\n",
    "\n",
    "from fhir.resources.codeableconcept import CodeableConcept\n",
    "\n",
    "code_codeconcept_val = CodeableConcept(\n",
    "    coding=[code_coding_val],\n",
    ")\n",
    "\n",
    "from moldefresource.moleculardefinition import  MolecularDefinitionRepresentation\n",
    "MolDefRep = MolecularDefinitionRepresentation(\n",
    "    literal=MolDefRepLit,\n",
    "    focus=focus_codeconcept_val,\n",
    "    code=[code_codeconcept_val])\n",
    "\n",
    "MolDefRep.model_dump()"
   ]
  },
  {
   "cell_type": "markdown",
   "metadata": {},
   "source": [
    "##### Final Step: Integrating Location, Representation and other Data into the Complete MolecularDefinition Class"
   ]
  },
  {
   "cell_type": "code",
   "execution_count": 5,
   "metadata": {},
   "outputs": [
    {
     "data": {
      "text/plain": [
       "{'resourceType': 'MolecularDefinition',\n",
       " 'id': 'example-allelesliced-cyp2c19-literal-only',\n",
       " 'meta': {'profile': ['http://hl7.org/fhir/StructureDefinition/allelesliced']},\n",
       " 'moleculeType': {'coding': [{'system': 'http://hl7.org/fhir/sequence-type',\n",
       "    'code': 'dna',\n",
       "    'display': 'DNA Sequence'}]},\n",
       " 'location': [{'sequenceLocation': {'sequenceContext': {'reference': 'MolecularDefinition/example-sequence-nm0007694-url',\n",
       "     'type': 'MolecularDefinition',\n",
       "     'display': 'Starting Sequence Resource: (CYP2C19), mRNA, NM_000769.4'},\n",
       "    'coordinateInterval': {'coordinateSystem': {'system': {'coding': [{'system': 'http://loinc.org',\n",
       "         'code': 'LA30100-4',\n",
       "         'display': '0-based interval counting'}],\n",
       "       'text': '0-based interval counting'}},\n",
       "     'startQuantity': {'value': Decimal('1015')},\n",
       "     'endQuantity': {'value': Decimal('1016')}}}}],\n",
       " 'representation': [{'focus': {'coding': [{'system': 'http://hl7.org/fhir/moleculardefinition-focus',\n",
       "      'code': 'allele-state',\n",
       "      'display': 'Allele State'}]},\n",
       "   'code': [{'coding': [{'system': 'https://www.pharmvar.org',\n",
       "       'code': '*1',\n",
       "       'display': '*1'}]}],\n",
       "   'literal': {'value': 'G'}}]}"
      ]
     },
     "execution_count": 5,
     "metadata": {},
     "output_type": "execute_result"
    }
   ],
   "source": [
    "from fhir.resources.meta import Meta\n",
    "\n",
    "meta_val = Meta(\n",
    "  profile= [\"http://hl7.org/fhir/StructureDefinition/allelesliced\"]\n",
    ")\n",
    "\n",
    "from fhir.resources.coding import Coding\n",
    "\n",
    "moltype_coding_val = Coding(\n",
    "        system=\"http://hl7.org/fhir/sequence-type\",\n",
    "        code= \"dna\",\n",
    "        display= \"DNA Sequence\"\n",
    "    )\n",
    "\n",
    "from fhir.resources.codeableconcept import CodeableConcept\n",
    "\n",
    "moltype_codeconcept_val = CodeableConcept(\n",
    "    coding=[moltype_coding_val],\n",
    ")\n",
    "\n",
    "from moldefresource.moleculardefinition import MolecularDefinition\n",
    "\n",
    "MolDef = MolecularDefinition(\n",
    "  id = \"example-allelesliced-cyp2c19-literal-only\",\n",
    "  meta = meta_val,\n",
    "  moleculeType=moltype_codeconcept_val,\n",
    "  location=[MolDefLoc],\n",
    "  representation=[MolDefRep]\n",
    ")\n",
    "MolDef.model_dump()\n"
   ]
  }
 ],
 "metadata": {
  "kernelspec": {
   "display_name": "venv",
   "language": "python",
   "name": "python3"
  },
  "language_info": {
   "codemirror_mode": {
    "name": "ipython",
    "version": 3
   },
   "file_extension": ".py",
   "mimetype": "text/x-python",
   "name": "python",
   "nbconvert_exporter": "python",
   "pygments_lexer": "ipython3",
   "version": "3.11.5"
  }
 },
 "nbformat": 4,
 "nbformat_minor": 2
}
