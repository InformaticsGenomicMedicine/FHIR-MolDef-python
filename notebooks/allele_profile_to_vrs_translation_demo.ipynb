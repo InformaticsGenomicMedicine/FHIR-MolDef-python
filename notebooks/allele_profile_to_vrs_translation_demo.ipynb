{
 "cells": [
  {
   "cell_type": "markdown",
   "metadata": {},
   "source": [
    "### Demonstration Overview: Translating an Allele Profile into a  VRS (version 1.3) object\n",
    "\n",
    "This notebook demonstrates the conversion of an **HL7 FHIR AlleleProfile** into a **GA4GH VRS (Version 1.3)** representation. Using example data, an `AlleleProfile` object is generated and subsequently translated into a VRS allele via the `translate_allele_profile_to_vrs_allele` method from the `VrsFhirAlleleTranslation` class. This method facilitates a one-way transformation from **FHIR AlleleProfiles** to **VRS Alleles**.\n",
    "\n",
    "For a more comprehensive understanding of the **HL7 FHIR AlleleProfile**, we recommend reviewing the [AlleleProfile Demo Notebook](allele_profile_demo.ipynb) notebook as well as the [HL7 FHIR MolecularDefinition Documentation](https://build.fhir.org/branches/cg-im-moldef_work_in_progress_2/moleculardefinition.html).\n"
   ]
  },
  {
   "cell_type": "markdown",
   "metadata": {},
   "source": [
    "### Prerequisites and Setup\n",
    "\n",
    "To support the one way transformation from AlelleProfile to VRS Allele of this demonstration, we set up the environment by importing the necessary libraries and modules. These include:\n",
    "\n",
    "1. **Custom Project Modules**:\n",
    "   - `AlleleProfile` from `profiles.alleleprofile`: A data structure representing an HL7 FHIR AlleleProfile\n",
    "   - `VrsFhirAlleleTranslation` from `moldeftranslator.allele_translator`: A translation component for converting VRS alleles into Allele Profile."
   ]
  },
  {
   "cell_type": "code",
   "execution_count": 9,
   "metadata": {},
   "outputs": [],
   "source": [
    "from profiles.alleleprofile import AlleleProfile\n",
    "from moldeftranslator.allele_translator import VrsFhirAlleleTranslation\n",
    "\n",
    "alleleTrans = VrsFhirAlleleTranslation()"
   ]
  },
  {
   "cell_type": "markdown",
   "metadata": {},
   "source": [
    "### Data Requirements for Translation\n",
    "\n",
    "While the HL7 FHIR AlleleProfile structure defines certain fields with varying cardinalities, this notebook requires specific data elements to be present for successful translation into a GA4GH VRS Allele. These fields are essential for ensuring accurate and meaningful conversion, even if they are not strictly mandated by the FHIR specification. \n",
    "\n",
    "* **Reference Sequence**: `location[0][\"sequenceLocation\"][\"sequenceContext\"][\"display\"]`  \n",
    "* **Coordinate System**: `location[0][\"sequenceLocation\"][\"coordinateInterval\"][\"coordinateSystem\"][\"system\"][\"coding\"][0][\"code\"]`  \n",
    "* **Start Position**: `location[0][\"sequenceLocation\"][\"coordinateInterval\"][\"startQuantity\"][\"value\"]`  \n",
    "* **End Position**: `location[0][\"sequenceLocation\"][\"coordinateInterval\"][\"endQuantity\"][\"value\"]`  \n",
    "* **Literal Value (Allele Representation)**: `representation[0][\"literal\"][\"value\"]`  \n",
    "\n",
    "⚠ **Note:** The translation step includes a validation process that verifies the presence of these required fields. If any of these fields are missing, an error will be raised, and the translation will not be performed."
   ]
  },
  {
   "cell_type": "markdown",
   "metadata": {},
   "source": [
    "### Exmaple 1"
   ]
  },
  {
   "cell_type": "code",
   "execution_count": null,
   "metadata": {},
   "outputs": [],
   "source": [
    "example_substitution ={\n",
    "    \"resourceType\" : \"MolecularDefinition\",\n",
    "    \"id\" : \"demo-example-hgvs-substitution\",\n",
    "    \"meta\" : {\n",
    "      \"profile\" : [\"http://hl7.org/fhir/StructureDefinition/allelesliced\"]\n",
    "    },\n",
    "    \"moleculeType\" : {\n",
    "      \"coding\" : [{\n",
    "        \"system\" : \"http://hl7.org/fhir/sequence-type\",\n",
    "        \"code\" : \"dna\",\n",
    "        \"display\" : \"DNA Sequence\"\n",
    "      }]\n",
    "    },\n",
    "    \"location\" : [\n",
    "        {\n",
    "      \"sequenceLocation\" : {\n",
    "        \"sequenceContext\" : {\n",
    "          \"reference\" : \"MolecularDefinition/example-sequence-nc000002-url\",\n",
    "          \"type\" : \"MolecularDefinition\",\n",
    "          # Example needs to contain the reference sequence for translation \n",
    "          \"display\" : \"NC_000002.12\"\n",
    "        },\n",
    "        \"coordinateInterval\" : {\n",
    "          \"coordinateSystem\" : {\n",
    "            \"system\" : {\n",
    "              \"coding\" : [{\n",
    "                \"system\" : \"http://loinc.org\",\n",
    "                \"code\" : \"LA30100-4\",\n",
    "                # Example needs to contain the systems coordinate for translation \n",
    "                \"display\" : \"0-based interval counting\" \n",
    "              }],\n",
    "              \"text\" : \"0-based interval counting\"\n",
    "            }\n",
    "          },\n",
    "          # Example needs to contain the startQuantity for translation \n",
    "          \"startQuantity\" : {\n",
    "            \"value\" : 27453448\n",
    "          },\n",
    "          # Example needs to contain the endQuantity for translation \n",
    "          \"endQuantity\" : {\n",
    "            \"value\" : 27453449\n",
    "          }\n",
    "        }\n",
    "      }\n",
    "    }\n",
    "    ],\n",
    "    \"representation\" : [{\n",
    "      \"focus\" : {\n",
    "        \"coding\" : [{\n",
    "          # Example needs to contain system \n",
    "          \"system\" : \"http://hl7.org/fhir/moleculardefinition-focus\",\n",
    "          # Example needs to contain code \n",
    "          \"code\" : \"allele-state\",\n",
    "          \"display\" : \"Allele State\"\n",
    "        }]\n",
    "      },\n",
    "      \"literal\" : {\n",
    "        # Example needs to contain the literal value for translation\n",
    "        \"value\" : \"T\"\n",
    "      }\n",
    "    }]\n",
    "  }"
   ]
  },
  {
   "cell_type": "code",
   "execution_count": 3,
   "metadata": {},
   "outputs": [
    {
     "data": {
      "text/plain": [
       "{'resourceType': 'MolecularDefinition',\n",
       " 'id': 'demo-example-hgvs-substitution',\n",
       " 'meta': {'profile': ['http://hl7.org/fhir/StructureDefinition/allelesliced']},\n",
       " 'moleculeType': {'coding': [{'system': 'http://hl7.org/fhir/sequence-type',\n",
       "    'code': 'dna',\n",
       "    'display': 'DNA Sequence'}]},\n",
       " 'location': [{'sequenceLocation': {'sequenceContext': {'reference': 'MolecularDefinition/example-sequence-nc000002-url',\n",
       "     'type': 'MolecularDefinition',\n",
       "     'display': 'NC_000002.12'},\n",
       "    'coordinateInterval': {'coordinateSystem': {'system': {'coding': [{'system': 'http://loinc.org',\n",
       "         'code': 'LA30100-4',\n",
       "         'display': '0-based interval counting'}],\n",
       "       'text': '0-based interval counting'}},\n",
       "     'startQuantity': {'value': Decimal('27453448')},\n",
       "     'endQuantity': {'value': Decimal('27453449')}}}}],\n",
       " 'representation': [{'focus': {'coding': [{'system': 'http://hl7.org/fhir/moleculardefinition-focus',\n",
       "      'code': 'allele-state',\n",
       "      'display': 'Allele State'}]},\n",
       "   'literal': {'value': 'T'}}]}"
      ]
     },
     "execution_count": 3,
     "metadata": {},
     "output_type": "execute_result"
    }
   ],
   "source": [
    "example_allele_substitution = AlleleProfile(**example_substitution)\n",
    "example_allele_substitution.model_dump()"
   ]
  },
  {
   "cell_type": "markdown",
   "metadata": {},
   "source": [
    "### Normalized VRS allele translation"
   ]
  },
  {
   "cell_type": "code",
   "execution_count": 4,
   "metadata": {},
   "outputs": [
    {
     "data": {
      "text/plain": [
       "{'_id': 'ga4gh:VA.fXvhngewkkyVwzEeSJRr5tro8Jcol6Q-',\n",
       " 'type': 'Allele',\n",
       " 'location': {'_id': 'ga4gh:VSL.nLMbYalHO4OEI2axqkyTMCQxrH98UpDN',\n",
       "  'type': 'SequenceLocation',\n",
       "  'sequence_id': 'ga4gh:SQ.pnAqCRBrTsUoBghSD1yp_jXWSmlbdh4g',\n",
       "  'interval': {'type': 'SequenceInterval',\n",
       "   'start': {'type': 'Number', 'value': 27453448},\n",
       "   'end': {'type': 'Number', 'value': 27453449}}},\n",
       " 'state': {'type': 'LiteralSequenceExpression', 'sequence': 'T'}}"
      ]
     },
     "execution_count": 4,
     "metadata": {},
     "output_type": "execute_result"
    }
   ],
   "source": [
    "vrs_example_allele_substitution_norm = alleleTrans.translate_allele_profile_to_vrs_allele(example_allele_substitution)\n",
    "vrs_example_allele_substitution_norm.as_dict()"
   ]
  },
  {
   "cell_type": "markdown",
   "metadata": {},
   "source": [
    "### Non-normalized VRS allele translation"
   ]
  },
  {
   "cell_type": "code",
   "execution_count": 5,
   "metadata": {},
   "outputs": [
    {
     "data": {
      "text/plain": [
       "{'type': 'Allele',\n",
       " 'location': {'type': 'SequenceLocation',\n",
       "  'sequence_id': 'refseq:NC_000002.12',\n",
       "  'interval': {'type': 'SequenceInterval',\n",
       "   'start': {'type': 'Number', 'value': 27453448},\n",
       "   'end': {'type': 'Number', 'value': 27453449}}},\n",
       " 'state': {'type': 'LiteralSequenceExpression', 'sequence': 'T'}}"
      ]
     },
     "execution_count": 5,
     "metadata": {},
     "output_type": "execute_result"
    }
   ],
   "source": [
    "vrs_example_allele_substitution_unnorm = alleleTrans.translate_allele_profile_to_vrs_allele(example_allele_substitution,normalize=False)\n",
    "vrs_example_allele_substitution_unnorm.as_dict()"
   ]
  },
  {
   "cell_type": "markdown",
   "metadata": {},
   "source": [
    "### Example 2"
   ]
  },
  {
   "cell_type": "code",
   "execution_count": null,
   "metadata": {},
   "outputs": [],
   "source": [
    "example_insertion = {\n",
    "    \"resourceType\" : \"MolecularDefinition\",\n",
    "    \"id\" : \"demo-example-hgvs-insertion\",\n",
    "    \"meta\" : {\n",
    "      \"profile\" : [\"http://hl7.org/fhir/StructureDefinition/allelesliced\"]\n",
    "    },\n",
    "    \"moleculeType\" : {\n",
    "      \"coding\" : [{\n",
    "        \"system\" : \"http://hl7.org/fhir/sequence-type\",\n",
    "        \"code\" : \"dna\",\n",
    "        \"display\" : \"DNA Sequence\"\n",
    "      }]\n",
    "    },\n",
    "    \"location\" : [\n",
    "        {\n",
    "      \"sequenceLocation\" : {\n",
    "        \"sequenceContext\" : {\n",
    "          \"reference\" : \"MolecularDefinition/example-sequence-nc000001-url\",\n",
    "          \"type\" : \"MolecularDefinition\",\n",
    "          # Must only contain the reference sequence  for translation \n",
    "          \"display\" : \"NC_000001.11\" \n",
    "        },\n",
    "        \"coordinateInterval\" : {\n",
    "          \"coordinateSystem\" : {\n",
    "            \"system\" : {\n",
    "              \"coding\" : [{\n",
    "                \"system\" : \"http://loinc.org\",\n",
    "                \"code\" : \"LA30100-4\",\n",
    "                # Must only contain the systems coordinate for translation\n",
    "                \"display\" : \"0-based interval counting\" \n",
    "              }],\n",
    "              \"text\" : \"0-based interval counting\"\n",
    "            }\n",
    "          },\n",
    "          # Example needs to contain the startQuantity for translation\n",
    "          \"startQuantity\" : {\n",
    "            \"value\" : 113901365\n",
    "          },\n",
    "          # Example needs to contain the endQuantity for translation \n",
    "          \"endQuantity\" : {\n",
    "            \"value\" : 113901365\n",
    "          }\n",
    "        },\n",
    "      }\n",
    "    }\n",
    "    ],\n",
    "    \"representation\" : [{\n",
    "      \"focus\" : {\n",
    "        \"coding\" : [{\n",
    "          # Example needs to contain system \n",
    "          \"system\" : \"http://hl7.org/fhir/moleculardefinition-focus\",\n",
    "          # Example needs to contain code\n",
    "          \"code\" : \"allele-state\",\n",
    "          \"display\" : \"Allele State\"\n",
    "        }]\n",
    "      },\n",
    "      \"literal\" : {\n",
    "      # Example needs to contain the literal value for translation\n",
    "        \"value\" : \"ATA\"\n",
    "      }\n",
    "    }]\n",
    "  }\n"
   ]
  },
  {
   "cell_type": "code",
   "execution_count": 7,
   "metadata": {},
   "outputs": [
    {
     "data": {
      "text/plain": [
       "{'resourceType': 'MolecularDefinition',\n",
       " 'id': 'demo-example-hgvs-insertion',\n",
       " 'meta': {'profile': ['http://hl7.org/fhir/StructureDefinition/allelesliced']},\n",
       " 'moleculeType': {'coding': [{'system': 'http://hl7.org/fhir/sequence-type',\n",
       "    'code': 'dna',\n",
       "    'display': 'DNA Sequence'}]},\n",
       " 'location': [{'sequenceLocation': {'sequenceContext': {'reference': 'MolecularDefinition/example-sequence-nc000001-url',\n",
       "     'type': 'MolecularDefinition',\n",
       "     'display': 'NC_000001.11'},\n",
       "    'coordinateInterval': {'coordinateSystem': {'system': {'coding': [{'system': 'http://loinc.org',\n",
       "         'code': 'LA30100-4',\n",
       "         'display': '0-based interval counting'}],\n",
       "       'text': '0-based interval counting'}},\n",
       "     'startQuantity': {'value': Decimal('113901365')},\n",
       "     'endQuantity': {'value': Decimal('113901365')}}}}],\n",
       " 'representation': [{'focus': {'coding': [{'system': 'http://hl7.org/fhir/moleculardefinition-focus',\n",
       "      'code': 'allele-state',\n",
       "      'display': 'Allele State'}]},\n",
       "   'literal': {'value': 'ATA'}}]}"
      ]
     },
     "execution_count": 7,
     "metadata": {},
     "output_type": "execute_result"
    }
   ],
   "source": [
    "example_allele_insertion = AlleleProfile(**example_insertion)\n",
    "example_allele_insertion.model_dump()"
   ]
  },
  {
   "cell_type": "code",
   "execution_count": 8,
   "metadata": {},
   "outputs": [
    {
     "data": {
      "text/plain": [
       "{'_id': 'ga4gh:VA.J9BMdktHGGjE843oD0T_bwUV6WxojkCW',\n",
       " 'type': 'Allele',\n",
       " 'location': {'_id': 'ga4gh:VSL.TMxdXtmi4ctcTRipHMD6py1Nv1kLMyJd',\n",
       "  'type': 'SequenceLocation',\n",
       "  'sequence_id': 'ga4gh:SQ.Ya6Rs7DHhDeg7YaOSg1EoNi3U_nQ9SvO',\n",
       "  'interval': {'type': 'SequenceInterval',\n",
       "   'start': {'type': 'Number', 'value': 113901365},\n",
       "   'end': {'type': 'Number', 'value': 113901365}}},\n",
       " 'state': {'type': 'LiteralSequenceExpression', 'sequence': 'ATA'}}"
      ]
     },
     "execution_count": 8,
     "metadata": {},
     "output_type": "execute_result"
    }
   ],
   "source": [
    "vrs_example_allele_insertion = alleleTrans.translate_allele_profile_to_vrs_allele(example_allele_insertion)\n",
    "vrs_example_allele_insertion.as_dict()"
   ]
  },
  {
   "cell_type": "markdown",
   "metadata": {},
   "source": [
    "### Conclusion\n",
    "\n",
    "In this notebook, we demonstrated how to translate HL7 FHIR AlleleProfile resources into GA4GH VRS alleles. We began by using Python’s `**` unpacking syntax to generate a class instance directly from the complete JSON structure, and then converted the AlleleProfile object into a VRS Allele object using the `VrsFhirAlleleTranslation` class.\n",
    "\n",
    "If you would like to learn more about building AlleleProfile resources step-by-step, we recommend reviewing the [AlleleProfile Demo Notebook](allele_profile_demo.ipynb) notebook.\n",
    "\n",
    "We recognize that the HL7 FHIR MolecularDefinition schema is continuously evolving, which may affect the structure of AlleleProfile resources. As the schema changes, this code will also continue to evolve to maintain compatibility.\n"
   ]
  }
 ],
 "metadata": {
  "kernelspec": {
   "display_name": "venv",
   "language": "python",
   "name": "python3"
  },
  "language_info": {
   "codemirror_mode": {
    "name": "ipython",
    "version": 3
   },
   "file_extension": ".py",
   "mimetype": "text/x-python",
   "name": "python",
   "nbconvert_exporter": "python",
   "pygments_lexer": "ipython3",
   "version": "3.11.5"
  }
 },
 "nbformat": 4,
 "nbformat_minor": 2
}
