{
 "cells": [
  {
   "cell_type": "markdown",
   "metadata": {},
   "source": [
    "### Demonstration Overview: Translating a VRS (version 2.0) object into an Allele Profile\n",
    "\n",
    "This notebook demonstrates the translation of GA4GH VRS (version 2.0) into the HL7 FHIR Allele format. \n",
    "\n",
    "In this notebook, we use example data to generate VRS objects with the `vrs-python` library. Once created, these objects can be converted into FHIR-compliant Allele using the `vrs_allele_to_allele_profile` method from the `VrsFhirAlleleTranslation` class. This method enables a one-way transformation from VRS to FHIR Allele."
   ]
  },
  {
   "cell_type": "markdown",
   "metadata": {},
   "source": [
    "### Prerequisites and Setup\n",
    "\n",
    "To support the one way transformation from VRS Allele to FHIR Alelle of this demonstration, we set up the environment by importing the necessary libraries and modules. These include:\n",
    "\n",
    "1. **External Package**:\n",
    "   - `models` from `ga4gh.vrs`: Provides foundational data models for working with GA4GH Variation Representation Schema (VRS).\n",
    "\n",
    "2. **Custom Project Modules**:\n",
    "   - `AlleleNormalizer` from `normalize.allele_normalizer`: A utility for normalizing a vrs allele object.\n",
    "   - `VrsFhirAlleleTranslation` from `translators.allele_translator`: A translation component for converting VRS alleles into FHIR Allele."
   ]
  },
  {
   "cell_type": "code",
   "execution_count": null,
   "metadata": {},
   "outputs": [],
   "source": [
    "# importing the vrs models\n",
    "from ga4gh.vrs.models import SequenceLocation,SequenceReference,LiteralSequenceExpression,sequenceString,Allele\n",
    "from translators.allele_translator import VrsFhirAlleleTranslation\n",
    "from normalizers.allele_normalizer import AlleleNormalizer\n",
    "from api.seqrepo import SeqRepoAPI\n",
    "\n",
    "\n",
    "normalize = AlleleNormalizer()\n",
    "alleleTranslator = VrsFhirAlleleTranslation()\n",
    "seqrepo_api = SeqRepoAPI()"
   ]
  },
  {
   "cell_type": "markdown",
   "metadata": {},
   "source": [
    "### Example 1: Creating, Normalizing, and Translating a VRS Allele\n",
    "\n",
    "In this example, we first generate a VRS allele object and normalize it. Next, we translate the normalized allele into a FHIR-compliant Allele."
   ]
  },
  {
   "cell_type": "code",
   "execution_count": null,
   "metadata": {},
   "outputs": [],
   "source": [
    "# Creating the VRS object and then normalizing it.\n",
    "# Example 1 - Deletion origin: \"NC_000001.11:g.1014265del\"\n",
    "start = 1014263\n",
    "end = 1014265\n",
    "refseq = \"NC_000001.11\"\n",
    "alt_seq = \"C\"\n",
    "\n",
    "\n",
    "refget_accession = seqrepo_api.seqrepo_dataproxy.derive_refget_accession(f\"refseq:{refseq}\")\n",
    "seq_ref = SequenceReference(\n",
    "    refgetAccession=refget_accession.split(\"refget:\")[-1]\n",
    "    )\n",
    "\n",
    "seq_location = SequenceLocation(\n",
    "    sequenceReference=seq_ref,\n",
    "    start = start,\n",
    "    end=end,\n",
    ")\n",
    "lit_seq_expr = LiteralSequenceExpression(\n",
    "    sequence=sequenceString(alt_seq)\n",
    ")\n",
    "del_example_1 = Allele(\n",
    "    location=seq_location,\n",
    "    state=lit_seq_expr\n",
    ")\n",
    "\n",
    "norm_del_example_1 = normalize.post_normalize_allele(del_example_1)\n",
    "norm_del_example_1.model_dump(exclude_none=True)\n",
    "#TODO: this example is a ReferenceLengthExpression: It will not translate because we only translate literalsequenceexpression. Need to find a work around. "
   ]
  },
  {
   "cell_type": "code",
   "execution_count": null,
   "metadata": {},
   "outputs": [],
   "source": [
    "from ga4gh.vrs.normalize import denormalize_reference_length_expression\n",
    "#TODO: come back to this\n",
    "# denormalize_reference_length_expression(ref_seq=\"c\",repeat_subunit_length=1,alt_length=2)\n",
    "ref_seq = \"c\"\n",
    "repeat_subunit_length = norm_del_example_1.state.repeatSubunitLength\n",
    "alt_length = norm_del_example_1.location.end - norm_del_example_1.location.start\n",
    "\n",
    "denormalize_reference_length_expression(ref_seq, repeat_subunit_length, alt_length)\n",
    "# norm_del_example_1.location.end - norm_del_example_1.location.start"
   ]
  },
  {
   "cell_type": "code",
   "execution_count": null,
   "metadata": {},
   "outputs": [],
   "source": [
    "# Translating the normalized allele into an allele profile\n",
    "allele_profile_del_example = alleleTranslator.vrs_allele_to_allele_profile(norm_del_example_1)\n",
    "\n",
    "print(type(allele_profile_del_example))\n",
    "allele_profile_del_example.model_dump()"
   ]
  },
  {
   "cell_type": "markdown",
   "metadata": {},
   "source": [
    "### Example 2 "
   ]
  },
  {
   "cell_type": "code",
   "execution_count": null,
   "metadata": {},
   "outputs": [],
   "source": [
    "# Creating the VRS object and then normalizing it.\n",
    "# Example 2 - Insertion origin: \"NC_000001.11:g.113901365_113901366insATA\"\n",
    "start = 113901365\n",
    "end = 113901365\n",
    "refseq = \"NC_000001.11\"\n",
    "alt_seq = \"ATA\"\n",
    "\n",
    "\n",
    "refget_accession = seqrepo_api.seqrepo_dataproxy.derive_refget_accession(f\"refseq:{refseq}\")\n",
    "seq_ref = SequenceReference(\n",
    "    refgetAccession=refget_accession.split(\"refget:\")[-1]\n",
    "    )\n",
    "\n",
    "seq_location = SequenceLocation(\n",
    "    sequenceReference=seq_ref,\n",
    "    start = start,\n",
    "    end=end,\n",
    ")\n",
    "lit_seq_expr = LiteralSequenceExpression(\n",
    "    sequence=sequenceString(alt_seq)\n",
    ")\n",
    "insertion_example = Allele(\n",
    "    location=seq_location,\n",
    "    state=lit_seq_expr\n",
    ")\n",
    "\n",
    "norm_insertion_example = normalize.post_normalize_allele(insertion_example)\n",
    "norm_insertion_example.model_dump(exclude_none=True)"
   ]
  },
  {
   "cell_type": "code",
   "execution_count": null,
   "metadata": {},
   "outputs": [],
   "source": [
    "# Translating the normalized allele into an allele profile\n",
    "allele_profile_insertion = alleleTranslator.vrs_allele_to_allele_profile(norm_insertion_example)\n",
    "\n",
    "print(type(allele_profile_insertion))\n",
    "allele_profile_insertion.model_dump()"
   ]
  },
  {
   "cell_type": "markdown",
   "metadata": {},
   "source": [
    "### Example 3"
   ]
  },
  {
   "cell_type": "code",
   "execution_count": null,
   "metadata": {},
   "outputs": [],
   "source": [
    "# Creating the VRS object and then normalizing it.\n",
    "# Example 3 - Substituion origin: \"NC_000002.12:g.27453449C>T\"\n",
    "start = 27453448\n",
    "end = 27453449\n",
    "refseq = \"NC_000002.12\"\n",
    "alt_seq = \"T\"\n",
    "\n",
    "\n",
    "refget_accession = seqrepo_api.seqrepo_dataproxy.derive_refget_accession(f\"refseq:{refseq}\")\n",
    "seq_ref = SequenceReference(\n",
    "    refgetAccession=refget_accession.split(\"refget:\")[-1]\n",
    "    )\n",
    "\n",
    "seq_location = SequenceLocation(\n",
    "    sequenceReference=seq_ref,\n",
    "    start = start,\n",
    "    end=end,\n",
    ")\n",
    "lit_seq_expr = LiteralSequenceExpression(\n",
    "    sequence=sequenceString(alt_seq)\n",
    ")\n",
    "sub_example = Allele(\n",
    "    location=seq_location,\n",
    "    state=lit_seq_expr\n",
    ")\n",
    "\n",
    "norm_sub_example = normalize.post_normalize_allele(sub_example)\n",
    "norm_sub_example.model_dump(exclude_none=True)"
   ]
  },
  {
   "cell_type": "code",
   "execution_count": null,
   "metadata": {},
   "outputs": [],
   "source": [
    "# Translating the normalized allele into an allele profile\n",
    "allele_profile_sub_example = alleleTranslator.vrs_allele_to_allele_profile(norm_sub_example)\n",
    "\n",
    "print(type(allele_profile_sub_example))\n",
    "allele_profile_sub_example.model_dump()"
   ]
  },
  {
   "cell_type": "markdown",
   "metadata": {},
   "source": [
    "### Conclusion\n",
    "\n",
    "In this notebook, we demonstrated the translation of GA4GH VRS alleles into HL7 FHIR Allele. We began by creating VRS allele objects, normalizing them, and converting them into FHIR-compliant representations using the VrsFhirAlleleTranslation class. This process enhances interoperability between GA4GH and HL7 FHIR standards, enabling seamless integration of genomic data into healthcare systems. The examples included deletion, insertion, and substitution variants.\n",
    "\n",
    "We recognize that VRS is continuously evolving, with VRS 2.0 on the horizon. As the new version stabilizes, we plan to assess its impact and potentially refactor our implementation to align with the latest standard, ensuring continued compatibility and functionality."
   ]
  }
 ],
 "metadata": {
  "kernelspec": {
   "display_name": "venv",
   "language": "python",
   "name": "python3"
  },
  "language_info": {
   "codemirror_mode": {
    "name": "ipython",
    "version": 3
   },
   "file_extension": ".py",
   "mimetype": "text/x-python",
   "name": "python",
   "nbconvert_exporter": "python",
   "pygments_lexer": "ipython3",
   "version": "3.11.5"
  }
 },
 "nbformat": 4,
 "nbformat_minor": 2
}
