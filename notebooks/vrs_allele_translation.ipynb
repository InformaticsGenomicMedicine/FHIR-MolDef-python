{
 "cells": [
  {
   "cell_type": "markdown",
   "metadata": {},
   "source": [
    "### Demonstration Overview: Translating a VRS (version 1.3) object into an Allele Profile\n",
    "\n",
    "This notebook demonstrates the translation of GA4GH VRS (Version 1.3) into the HL7 FHIR AlleleProfile format. At the time of development, VRS 1.3 was the stable version of the model. However, the VRS community is actively working toward establishing VRS 2.0 as the next stable release. For more details on VRS, refer to the official [VRS Documentation](https://vrs.ga4gh.org/en/1.3/).  \n",
    "\n",
    "In this notebook, we use example data to generate VRS objects with the `vrs-python` library. Once created, these objects can be converted into FHIR-compliant AlleleProfiles using the `vrs_allele_to_allele_profile` method from the `VrsFhirAlleleTranslation` class. This method enables a one-way transformation from VRS to FHIR AlleleProfiles."
   ]
  },
  {
   "cell_type": "markdown",
   "metadata": {},
   "source": [
    "### Prerequisites and Setup\n",
    "\n",
    "To support the one way transformation from VRS Allele to AlelleProfile of this demonstration, we set up the environment by importing the necessary libraries and modules. These include:\n",
    "\n",
    "1. **External Package**:\n",
    "   - `models` from `ga4gh.vrs`: Provides foundational data models for working with GA4GH Variation Representation Schema (VRS).\n",
    "\n",
    "2. **Custom Project Modules**:\n",
    "   - `AlleleNormalizer` from `normalize.allele_normalizer`: A utility for normalizing a vrs allele object.\n",
    "   - `VrsFhirAlleleTranslation` from `moldeftranslator.allele_translator`: A translation component for converting VRS alleles into Allele Profile."
   ]
  },
  {
   "cell_type": "code",
   "execution_count": 12,
   "metadata": {},
   "outputs": [],
   "source": [
    "# importing the vrs models\n",
    "from ga4gh.vrs import models\n",
    "from moldeftranslator.allele_translator import VrsFhirAlleleTranslation\n",
    "from normalize.allele_normalizer import AlleleNormalizer\n",
    "from ga4gh.vrs.models import SequenceLocation,SequenceReference,LiteralSequenceExpression,sequenceString,Allele\n",
    "from api.seqrepo_api import SeqRepoAPI\n",
    "\n",
    "seqrepo_api = SeqRepoAPI()\n",
    "normalize = AlleleNormalizer()\n",
    "alleleTranslator = VrsFhirAlleleTranslation()"
   ]
  },
  {
   "cell_type": "markdown",
   "metadata": {},
   "source": [
    "### Example 1"
   ]
  },
  {
   "cell_type": "code",
   "execution_count": null,
   "metadata": {},
   "outputs": [],
   "source": [
    "refget_accession = seqrepo_api.seqrepo_dataproxy.derive_refget_accession(f\"refseq:{refseq}\")\n",
    "seq_ref = SequenceReference(\n",
    "    refgetAccession=refget_accession.split(\"refget:\")[-1]\n",
    "    )\n",
    "\n",
    "seq_location = SequenceLocation(\n",
    "    sequenceReference=seq_ref,\n",
    "    start = start,\n",
    "    end=end,\n",
    ")\n",
    "lit_seq_expr = LiteralSequenceExpression(\n",
    "    sequence=sequenceString(alt_seq)\n",
    ")\n",
    "allele = Allele(\n",
    "    location=seq_location,\n",
    "    state=lit_seq_expr\n",
    ")"
   ]
  },
  {
   "cell_type": "code",
   "execution_count": 13,
   "metadata": {},
   "outputs": [
    {
     "data": {
      "text/plain": [
       "{'id': 'ga4gh:VA.3edM6TTGAmx8DnPV-uzA6IYlAfatAP2s',\n",
       " 'type': 'Allele',\n",
       " 'digest': '3edM6TTGAmx8DnPV-uzA6IYlAfatAP2s',\n",
       " 'location': {'id': 'ga4gh:SL.OUMCiUkn_AGlFuFCFTdfppig932_HV2k',\n",
       "  'type': 'SequenceLocation',\n",
       "  'digest': 'OUMCiUkn_AGlFuFCFTdfppig932_HV2k',\n",
       "  'sequenceReference': {'type': 'SequenceReference',\n",
       "   'refgetAccession': 'SQ.Ya6Rs7DHhDeg7YaOSg1EoNi3U_nQ9SvO'},\n",
       "  'start': 113901365,\n",
       "  'end': 113901365},\n",
       " 'state': {'type': 'LiteralSequenceExpression', 'sequence': 'ATA'}}"
      ]
     },
     "execution_count": 13,
     "metadata": {},
     "output_type": "execute_result"
    }
   ],
   "source": [
    "# Creating the VRS object and then normalizing it.\n",
    "# Example 1 - Insertion origin: \"NC_000001.11:g.113901365_113901366insATA\"\n",
    "start = 113901365\n",
    "end = 113901365\n",
    "refseq = \"NC_000001.11\"\n",
    "alt_seq = \"ATA\"\n",
    "\n",
    "refget_accession = seqrepo_api.seqrepo_dataproxy.derive_refget_accession(f\"refseq:{refseq}\")\n",
    "seq_ref = SequenceReference(\n",
    "    refgetAccession=refget_accession.split(\"refget:\")[-1]\n",
    "    )\n",
    "\n",
    "seq_location = SequenceLocation(\n",
    "    sequenceReference=seq_ref,\n",
    "    start = start,\n",
    "    end=end,\n",
    ")\n",
    "lit_seq_expr = LiteralSequenceExpression(\n",
    "    sequence=sequenceString(alt_seq)\n",
    ")\n",
    "insertion_example = Allele(\n",
    "    location=seq_location,\n",
    "    state=lit_seq_expr\n",
    ")\n",
    "norm_insertion_example= normalize.post_normalize_allele(insertion_example)\n",
    "norm_insertion_example.model_dump(exclude_none=True)"
   ]
  },
  {
   "cell_type": "code",
   "execution_count": 14,
   "metadata": {},
   "outputs": [
    {
     "name": "stdout",
     "output_type": "stream",
     "text": [
      "<class 'profiles.alleleprofile.AlleleProfile'>\n"
     ]
    },
    {
     "data": {
      "text/plain": [
       "{'resourceType': 'MolecularDefinition',\n",
       " 'contained': [{'resourceType': 'MolecularDefinition',\n",
       "   'id': 'ref-to-nc000001',\n",
       "   'moleculeType': {'coding': [{'system': 'http://hl7.org/fhir/sequence-type',\n",
       "      'code': 'dna',\n",
       "      'display': 'DNA Sequence'}]},\n",
       "   'representation': [{'code': [{'coding': [{'system': 'http://www.ncbi.nlm.nih.gov/refseq',\n",
       "         'code': 'NC_000001.11'}]}]}]}],\n",
       " 'moleculeType': {'coding': [{'system': 'http://hl7.org/fhir/sequence-type',\n",
       "    'code': 'dna',\n",
       "    'display': 'DNA Sequence'}]},\n",
       " 'location': [{'sequenceLocation': {'sequenceContext': {'reference': '#ref-to-nc000001',\n",
       "     'type': 'MolecularDefinition'},\n",
       "    'coordinateInterval': {'coordinateSystem': {'system': {'coding': [{'system': 'http://loinc.org',\n",
       "         'code': 'LA30100-4',\n",
       "         'display': '0-based interval counting'}]}},\n",
       "     'startQuantity': {'value': 113901365.0},\n",
       "     'endQuantity': {'value': 113901365.0}}}}],\n",
       " 'representation': [{'focus': {'coding': [{'system': 'http://hl7.org/fhir/moleculardefinition-focus',\n",
       "      'code': 'allele-state'}]},\n",
       "   'literal': {'value': 'ATA'}}]}"
      ]
     },
     "execution_count": 14,
     "metadata": {},
     "output_type": "execute_result"
    }
   ],
   "source": [
    "# Translating the normalized allele into an allele profile\n",
    "allele_profile_insertion = alleleTranslator.vrs_allele_to_allele_profile(norm_insertion_example)\n",
    "\n",
    "print(type(allele_profile_insertion))\n",
    "allele_profile_insertion.model_dump()"
   ]
  },
  {
   "cell_type": "markdown",
   "metadata": {},
   "source": [
    "### Example 2"
   ]
  },
  {
   "cell_type": "code",
   "execution_count": 15,
   "metadata": {},
   "outputs": [
    {
     "data": {
      "text/plain": [
       "{'id': 'ga4gh:VA.xfKU4c8mG_yegL5ZOL26JDiznySNkoMl',\n",
       " 'type': 'Allele',\n",
       " 'digest': 'xfKU4c8mG_yegL5ZOL26JDiznySNkoMl',\n",
       " 'location': {'id': 'ga4gh:SL.y0ckc1_lhMYKnh0f6FAEoEpgHyfX13OW',\n",
       "  'type': 'SequenceLocation',\n",
       "  'digest': 'y0ckc1_lhMYKnh0f6FAEoEpgHyfX13OW',\n",
       "  'sequenceReference': {'type': 'SequenceReference',\n",
       "   'refgetAccession': 'SQ.pnAqCRBrTsUoBghSD1yp_jXWSmlbdh4g'},\n",
       "  'start': 27453448,\n",
       "  'end': 27453449},\n",
       " 'state': {'type': 'LiteralSequenceExpression', 'sequence': 'T'}}"
      ]
     },
     "execution_count": 15,
     "metadata": {},
     "output_type": "execute_result"
    }
   ],
   "source": [
    "# Creating the VRS object and then normalizing it.\n",
    "# Example 2 - Substituion origin: \"NC_000002.12:g.27453449C>T\"\n",
    "start = 27453448\n",
    "end = 27453449\n",
    "refseq = \"NC_000002.12\"\n",
    "alt_seq = \"T\"\n",
    "\n",
    "refget_accession = seqrepo_api.seqrepo_dataproxy.derive_refget_accession(f\"refseq:{refseq}\")\n",
    "seq_ref = SequenceReference(\n",
    "    refgetAccession=refget_accession.split(\"refget:\")[-1]\n",
    "    )\n",
    "\n",
    "seq_location = SequenceLocation(\n",
    "    sequenceReference=seq_ref,\n",
    "    start = start,\n",
    "    end=end,\n",
    ")\n",
    "lit_seq_expr = LiteralSequenceExpression(\n",
    "    sequence=sequenceString(alt_seq)\n",
    ")\n",
    "sub_example = Allele(\n",
    "    location=seq_location,\n",
    "    state=lit_seq_expr\n",
    ")\n",
    "norm_sub_example= normalize.post_normalize_allele(sub_example)\n",
    "norm_sub_example.model_dump(exclude_none=True)"
   ]
  },
  {
   "cell_type": "code",
   "execution_count": 16,
   "metadata": {},
   "outputs": [
    {
     "name": "stdout",
     "output_type": "stream",
     "text": [
      "<class 'profiles.alleleprofile.AlleleProfile'>\n"
     ]
    },
    {
     "data": {
      "text/plain": [
       "{'resourceType': 'MolecularDefinition',\n",
       " 'contained': [{'resourceType': 'MolecularDefinition',\n",
       "   'id': 'ref-to-nc000002',\n",
       "   'moleculeType': {'coding': [{'system': 'http://hl7.org/fhir/sequence-type',\n",
       "      'code': 'dna',\n",
       "      'display': 'DNA Sequence'}]},\n",
       "   'representation': [{'code': [{'coding': [{'system': 'http://www.ncbi.nlm.nih.gov/refseq',\n",
       "         'code': 'NC_000002.12'}]}]}]}],\n",
       " 'moleculeType': {'coding': [{'system': 'http://hl7.org/fhir/sequence-type',\n",
       "    'code': 'dna',\n",
       "    'display': 'DNA Sequence'}]},\n",
       " 'location': [{'sequenceLocation': {'sequenceContext': {'reference': '#ref-to-nc000002',\n",
       "     'type': 'MolecularDefinition'},\n",
       "    'coordinateInterval': {'coordinateSystem': {'system': {'coding': [{'system': 'http://loinc.org',\n",
       "         'code': 'LA30100-4',\n",
       "         'display': '0-based interval counting'}]}},\n",
       "     'startQuantity': {'value': 27453448.0},\n",
       "     'endQuantity': {'value': 27453449.0}}}}],\n",
       " 'representation': [{'focus': {'coding': [{'system': 'http://hl7.org/fhir/moleculardefinition-focus',\n",
       "      'code': 'allele-state'}]},\n",
       "   'literal': {'value': 'T'}}]}"
      ]
     },
     "execution_count": 16,
     "metadata": {},
     "output_type": "execute_result"
    }
   ],
   "source": [
    "# Translating the normalized allele into an allele profile\n",
    "allele_profile_sub_example = alleleTranslator.vrs_allele_to_allele_profile(norm_sub_example)\n",
    "\n",
    "print(type(allele_profile_sub_example))\n",
    "allele_profile_sub_example.model_dump()"
   ]
  },
  {
   "cell_type": "markdown",
   "metadata": {},
   "source": [
    "### Conclusion\n",
    "\n",
    "In this notebook, we demonstrated the translation of GA4GH VRS alleles into HL7 FHIR AlleleProfiles. We began by creating VRS allele objects, normalizing them, and converting them into FHIR-compliant representations using the VrsFhirAlleleTranslation class. This process enhances interoperability between GA4GH and HL7 FHIR standards, enabling seamless integration of genomic data into healthcare systems. The examples included deletion, insertion, and substitution variants.\n",
    "\n",
    "We recognize that VRS is continuously evolving, with VRS 2.0 on the horizon. As the new version stabilizes, we plan to assess its impact and potentially refactor our implementation to align with the latest standard, ensuring continued compatibility and functionality."
   ]
  }
 ],
 "metadata": {
  "kernelspec": {
   "display_name": "venv",
   "language": "python",
   "name": "python3"
  },
  "language_info": {
   "codemirror_mode": {
    "name": "ipython",
    "version": 3
   },
   "file_extension": ".py",
   "mimetype": "text/x-python",
   "name": "python",
   "nbconvert_exporter": "python",
   "pygments_lexer": "ipython3",
   "version": "3.11.5"
  }
 },
 "nbformat": 4,
 "nbformat_minor": 2
}
