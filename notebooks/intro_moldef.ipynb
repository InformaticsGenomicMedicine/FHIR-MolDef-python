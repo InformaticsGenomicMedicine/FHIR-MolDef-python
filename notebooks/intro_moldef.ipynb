{
 "cells": [
  {
   "cell_type": "code",
   "execution_count": 1,
   "metadata": {},
   "outputs": [],
   "source": [
    "#RUN FOR GITHUB CODESPACE\n",
    "import sys\n",
    "sys.path.append('..')"
   ]
  },
  {
   "cell_type": "code",
   "execution_count": 2,
   "metadata": {},
   "outputs": [],
   "source": [
    "from src.resource.moleculardefinition import MolecularDefinitionRepresentationLiteral\n",
    "from fhir.resources.codeableconcept import CodeableConcept"
   ]
  },
  {
   "cell_type": "code",
   "execution_count": 3,
   "metadata": {},
   "outputs": [],
   "source": [
    "MolDefReprLiteral = MolecularDefinitionRepresentationLiteral(\n",
    "    value = \"A\",\n",
    "    encoding=CodeableConcept(coding=[{\"system\" : \"http://hl7.org/fhir/moleculardefinition-encoding\",\"code\" : \"iupac-dna\",\"display\" : \"International Union of Pure and Applied Chemistry-DNA Nucleotide Codes\"}])\n",
    ")"
   ]
  },
  {
   "cell_type": "code",
   "execution_count": 4,
   "metadata": {},
   "outputs": [],
   "source": [
    "from src.resource.moleculardefinition import MolecularDefinitionRepresentationLiteral\n",
    "from fhir.resources.codeableconcept import CodeableConcept\n",
    "\n",
    "\n",
    "\n",
    "MolDefReprLiteral = MolecularDefinitionRepresentationLiteral(\n",
    "    value = \"A\",\n",
    "    encoding=CodeableConcept(coding=[{\"system\" : \"http://hl7.org/fhir/moleculardefinition-encoding\",\"code\" : \"iupac-dna\",\"display\" : \"International Union of Pure and Applied Chemistry-DNA Nucleotide Codes\"}])\n",
    ")"
   ]
  },
  {
   "cell_type": "code",
   "execution_count": 5,
   "metadata": {},
   "outputs": [
    {
     "data": {
      "text/plain": [
       "{'encoding': {'coding': [{'system': 'http://hl7.org/fhir/moleculardefinition-encoding',\n",
       "    'code': 'iupac-dna',\n",
       "    'display': 'International Union of Pure and Applied Chemistry-DNA Nucleotide Codes'}]},\n",
       " 'value': 'A'}"
      ]
     },
     "execution_count": 5,
     "metadata": {},
     "output_type": "execute_result"
    }
   ],
   "source": [
    "MolDefReprLiteral.model_dump()"
   ]
  }
 ],
 "metadata": {
  "kernelspec": {
   "display_name": "venv",
   "language": "python",
   "name": "python3"
  },
  "language_info": {
   "codemirror_mode": {
    "name": "ipython",
    "version": 3
   },
   "file_extension": ".py",
   "mimetype": "text/x-python",
   "name": "python",
   "nbconvert_exporter": "python",
   "pygments_lexer": "ipython3",
   "version": "3.11.5"
  }
 },
 "nbformat": 4,
 "nbformat_minor": 2
}
