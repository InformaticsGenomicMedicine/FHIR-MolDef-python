{
 "cells": [
  {
   "cell_type": "markdown",
   "metadata": {},
   "source": [
    "#### Notebook Goal: Understanding and Constructing the `AlleleProfile` Class\n",
    "\n",
    "* The `MolecularDefinition` class serves as the parent class for `AlleleProfile`.  \n",
    "* The `AlleleProfile` class inherits from the `MolecularDefinition` class.  \n",
    "* The `AlleleProfile` includes specific modifications tailored for its use case, as follows:  \n",
    "    * **`moleculeType` cardinality**: Changed from `0..1` to `1..1`.  \n",
    "    * **`location` cardinality**: Changed from `0..*` to `1..1`.  \n",
    "    * **`representation` cardinality**: Changed from `0..*` to `1..*`.  \n",
    "    * **`memberState`**: This field has been removed.  \n",
    "    * **`representation.focus.coding`**: Required to include `coding.code` with a default value of `allele-state` and `coding.system`.  \n"
   ]
  },
  {
   "cell_type": "code",
   "execution_count": 25,
   "metadata": {},
   "outputs": [],
   "source": [
    "from profiles.alleleprofile import AlleleProfile"
   ]
  },
  {
   "cell_type": "code",
   "execution_count": 26,
   "metadata": {},
   "outputs": [],
   "source": [
    "# Example 1 - Substitition origin: \"NC_000002.12:g.27453449C>T\"\n",
    "example_substitition ={\n",
    "    \"resourceType\" : \"MolecularDefinition\",\n",
    "    \"id\" : \"demo-example-hgvs-substitition\",\n",
    "    \"meta\" : {\n",
    "      \"profile\" : [\"http://hl7.org/fhir/StructureDefinition/allelesliced\"]\n",
    "    },\n",
    "    \"moleculeType\" : {\n",
    "      \"coding\" : [{\n",
    "        \"system\" : \"http://hl7.org/fhir/sequence-type\",\n",
    "        \"code\" : \"dna\",\n",
    "        \"display\" : \"DNA Sequence\"\n",
    "      }]\n",
    "    },\n",
    "    \"location\" : [\n",
    "        {\n",
    "      \"sequenceLocation\" : {\n",
    "        \"sequenceContext\" : {\n",
    "          \"reference\" : \"MolecularDefinition/example-sequence-nc000002-url\",\n",
    "          \"type\" : \"MolecularDefinition\",\n",
    "          # Example needs to contain the reference sequence\n",
    "          \"display\" : \"NC_000002.12\"\n",
    "        },\n",
    "        \"coordinateInterval\" : {\n",
    "          \"coordinateSystem\" : {\n",
    "            \"system\" : {\n",
    "              \"coding\" : [{\n",
    "                \"system\" : \"http://loinc.org\",\n",
    "                \"code\" : \"LA30100-4\",\n",
    "                # Example needs to contain the systems coordinate\n",
    "                \"display\" : \"0-based interbase\" \n",
    "              }],\n",
    "              \"text\" : \"0-based interbase\"\n",
    "            }\n",
    "          },\n",
    "          # Example needs to contain the startQuantity\n",
    "          \"startQuantity\" : {\n",
    "            \"value\" : 27453448\n",
    "          },\n",
    "          # Example needs to contain the endQuantity\n",
    "          \"endQuantity\" : {\n",
    "            \"value\" : 27453449\n",
    "          }\n",
    "        }\n",
    "      }\n",
    "    }\n",
    "    ],\n",
    "    \"representation\" : [{\n",
    "      \"focus\" : {\n",
    "        \"coding\" : [{\n",
    "          \"system\" : \"http://hl7.org/fhir/moleculardefinition-focus\",\n",
    "          \"code\" : \"allele-state\",\n",
    "          \"display\" : \"Allele State\"\n",
    "        }]\n",
    "      },\n",
    "      \"literal\" : {\n",
    "        \"value\" : \"T\"\n",
    "      }\n",
    "    }]\n",
    "  }"
   ]
  },
  {
   "cell_type": "code",
   "execution_count": 27,
   "metadata": {},
   "outputs": [
    {
     "data": {
      "text/plain": [
       "{'resourceType': 'MolecularDefinition',\n",
       " 'id': 'demo-example-hgvs-substitition',\n",
       " 'meta': {'profile': ['http://hl7.org/fhir/StructureDefinition/allelesliced']},\n",
       " 'moleculeType': {'coding': [{'system': 'http://hl7.org/fhir/sequence-type',\n",
       "    'code': 'dna',\n",
       "    'display': 'DNA Sequence'}]},\n",
       " 'location': [{'sequenceLocation': {'sequenceContext': {'reference': 'MolecularDefinition/example-sequence-nc000002-url',\n",
       "     'type': 'MolecularDefinition',\n",
       "     'display': 'NC_000002.12'},\n",
       "    'coordinateInterval': {'coordinateSystem': {'system': {'coding': [{'system': 'http://loinc.org',\n",
       "         'code': 'LA30100-4',\n",
       "         'display': '0-based interbase'}],\n",
       "       'text': '0-based interbase'}},\n",
       "     'startQuantity': {'value': Decimal('27453448')},\n",
       "     'endQuantity': {'value': Decimal('27453449')}}}}],\n",
       " 'representation': [{'focus': {'coding': [{'system': 'http://hl7.org/fhir/moleculardefinition-focus',\n",
       "      'code': 'allele-state',\n",
       "      'display': 'Allele State'}]},\n",
       "   'literal': {'value': 'T'}}]}"
      ]
     },
     "execution_count": 27,
     "metadata": {},
     "output_type": "execute_result"
    }
   ],
   "source": [
    "AlleleProfile(**example_substitition).model_dump()"
   ]
  },
  {
   "cell_type": "markdown",
   "metadata": {},
   "source": [
    "##### Step 1: Defining the MolecularDefinition Location Component"
   ]
  },
  {
   "cell_type": "code",
   "execution_count": 28,
   "metadata": {},
   "outputs": [
    {
     "data": {
      "text/plain": [
       "{'sequenceLocation': {'sequenceContext': {'reference': 'MolecularDefinition/example-sequence-nc000002-url',\n",
       "   'type': 'MolecularDefinition',\n",
       "   'display': 'NC_000002.12'},\n",
       "  'coordinateInterval': {'coordinateSystem': {'system': {'coding': [{'system': 'http://loinc.org',\n",
       "       'code': 'LA30100-4',\n",
       "       'display': '0-based interbase'}],\n",
       "     'text': '0-based interbase'}},\n",
       "   'startQuantity': {'value': Decimal('27453448')},\n",
       "   'endQuantity': {'value': Decimal('27453449')}}}}"
      ]
     },
     "execution_count": 28,
     "metadata": {},
     "output_type": "execute_result"
    }
   ],
   "source": [
    "from fhir.resources.coding import Coding\n",
    "\n",
    "coding_val = Coding(\n",
    "        system='http://loinc.org',\n",
    "        code= 'LA30100-4',\n",
    "        display= '0-based interbase'\n",
    "    )\n",
    "\n",
    "from fhir.resources.codeableconcept import CodeableConcept\n",
    "\n",
    "codeconcept_val = CodeableConcept(\n",
    "    coding=[coding_val],\n",
    "    text = '0-based interbase'\n",
    ")\n",
    "\n",
    "from moldefresource.moleculardefinition import MolecularDefinitionLocationSequenceLocationCoordinateIntervalCoordinateSystem\n",
    "\n",
    "MolDefLocSeqLocCoordIntCoord = MolecularDefinitionLocationSequenceLocationCoordinateIntervalCoordinateSystem(\n",
    "    system=codeconcept_val\n",
    ")\n",
    "\n",
    "from moldefresource.moleculardefinition import MolecularDefinitionLocationSequenceLocationCoordinateInterval\n",
    "from fhir.resources.quantity import Quantity\n",
    "\n",
    "MolDefLocSeqLocCoordInt = MolecularDefinitionLocationSequenceLocationCoordinateInterval(\n",
    "    coordinateSystem=MolDefLocSeqLocCoordIntCoord,\n",
    "    startQuantity=Quantity(value=27453448),\n",
    "    endQuantity=Quantity(value=27453449)\n",
    ")\n",
    "\n",
    "from moldefresource.moleculardefinition import MolecularDefinitionLocationSequenceLocation\n",
    "from fhir.resources.reference import Reference\n",
    "\n",
    "MolDefLocSeqLoc = MolecularDefinitionLocationSequenceLocation(\n",
    "    sequenceContext=Reference(\n",
    "        reference='MolecularDefinition/example-sequence-nc000002-url',\n",
    "        type='MolecularDefinition',\n",
    "        display= 'NC_000002.12'\n",
    "    ),\n",
    "    coordinateInterval = MolDefLocSeqLocCoordInt\n",
    ")\n",
    "\n",
    "from moldefresource.moleculardefinition import MolecularDefinitionLocation\n",
    "\n",
    "MolDefLoc = MolecularDefinitionLocation(\n",
    "    sequenceLocation = MolDefLocSeqLoc\n",
    ")\n",
    "\n",
    "MolDefLoc.model_dump()"
   ]
  },
  {
   "cell_type": "markdown",
   "metadata": {},
   "source": [
    "##### Step 2: Defining the MolecularDefinition Representation Component"
   ]
  },
  {
   "cell_type": "code",
   "execution_count": 29,
   "metadata": {},
   "outputs": [
    {
     "data": {
      "text/plain": [
       "{'focus': {'coding': [{'system': 'http://hl7.org/fhir/moleculardefinition-focus',\n",
       "    'code': 'allele-state',\n",
       "    'display': 'Allele State'}]},\n",
       " 'literal': {'value': 'T'}}"
      ]
     },
     "execution_count": 29,
     "metadata": {},
     "output_type": "execute_result"
    }
   ],
   "source": [
    "from moldefresource.moleculardefinition import MolecularDefinitionRepresentationLiteral\n",
    "MolDefRepLit = MolecularDefinitionRepresentationLiteral(value=\"T\")\n",
    "\n",
    "from fhir.resources.coding import Coding\n",
    "\n",
    "focus_coding_val = Coding(\n",
    "        system=\"http://hl7.org/fhir/moleculardefinition-focus\",\n",
    "        code= \"allele-state\",\n",
    "        display= \"Allele State\"\n",
    "    )\n",
    "\n",
    "from fhir.resources.codeableconcept import CodeableConcept\n",
    "\n",
    "focus_codeconcept_val = CodeableConcept(\n",
    "    coding=[focus_coding_val],\n",
    ")\n",
    "\n",
    "from moldefresource.moleculardefinition import  MolecularDefinitionRepresentation\n",
    "MolDefRep = MolecularDefinitionRepresentation(\n",
    "    literal=MolDefRepLit,\n",
    "    focus=focus_codeconcept_val\n",
    "    )\n",
    "\n",
    "MolDefRep.model_dump()"
   ]
  },
  {
   "cell_type": "markdown",
   "metadata": {},
   "source": [
    "##### Final Step: Integrating Location, Representation and other Data into the Complete AlleleProfile Class"
   ]
  },
  {
   "cell_type": "code",
   "execution_count": 30,
   "metadata": {},
   "outputs": [
    {
     "data": {
      "text/plain": [
       "{'resourceType': 'MolecularDefinition',\n",
       " 'id': 'demo-example-hgvs-substitition',\n",
       " 'meta': {'profile': ['http://hl7.org/fhir/StructureDefinition/allelesliced']},\n",
       " 'moleculeType': {'coding': [{'system': 'http://hl7.org/fhir/sequence-type',\n",
       "    'code': 'dna',\n",
       "    'display': 'DNA Sequence'}]},\n",
       " 'location': [{'sequenceLocation': {'sequenceContext': {'reference': 'MolecularDefinition/example-sequence-nc000002-url',\n",
       "     'type': 'MolecularDefinition',\n",
       "     'display': 'NC_000002.12'},\n",
       "    'coordinateInterval': {'coordinateSystem': {'system': {'coding': [{'system': 'http://loinc.org',\n",
       "         'code': 'LA30100-4',\n",
       "         'display': '0-based interbase'}],\n",
       "       'text': '0-based interbase'}},\n",
       "     'startQuantity': {'value': Decimal('27453448')},\n",
       "     'endQuantity': {'value': Decimal('27453449')}}}}],\n",
       " 'representation': [{'focus': {'coding': [{'system': 'http://hl7.org/fhir/moleculardefinition-focus',\n",
       "      'code': 'allele-state',\n",
       "      'display': 'Allele State'}]},\n",
       "   'literal': {'value': 'T'}}]}"
      ]
     },
     "execution_count": 30,
     "metadata": {},
     "output_type": "execute_result"
    }
   ],
   "source": [
    "from fhir.resources.meta import Meta\n",
    "\n",
    "meta_val = Meta(\n",
    "  profile= [\"http://hl7.org/fhir/StructureDefinition/allelesliced\"]\n",
    ")\n",
    "\n",
    "from fhir.resources.coding import Coding\n",
    "\n",
    "moltype_coding_val = Coding(\n",
    "        system=\"http://hl7.org/fhir/sequence-type\",\n",
    "        code= \"dna\",\n",
    "        display= \"DNA Sequence\"\n",
    "    )\n",
    "\n",
    "from fhir.resources.codeableconcept import CodeableConcept\n",
    "\n",
    "moltype_codeconcept_val = CodeableConcept(\n",
    "    coding=[moltype_coding_val],\n",
    ")\n",
    "\n",
    "from moldefresource.moleculardefinition import MolecularDefinition\n",
    "\n",
    "MolDef = MolecularDefinition(\n",
    "  id = 'demo-example-hgvs-substitition',\n",
    "  meta = meta_val,\n",
    "  moleculeType=moltype_codeconcept_val,\n",
    "  location=[MolDefLoc],\n",
    "  representation=[MolDefRep]\n",
    ")\n",
    "MolDef.model_dump()\n"
   ]
  }
 ],
 "metadata": {
  "kernelspec": {
   "display_name": "venv",
   "language": "python",
   "name": "python3"
  },
  "language_info": {
   "codemirror_mode": {
    "name": "ipython",
    "version": 3
   },
   "file_extension": ".py",
   "mimetype": "text/x-python",
   "name": "python",
   "nbconvert_exporter": "python",
   "pygments_lexer": "ipython3",
   "version": "3.11.5"
  }
 },
 "nbformat": 4,
 "nbformat_minor": 2
}
