{
 "cells": [
  {
   "cell_type": "code",
   "execution_count": 4,
   "metadata": {},
   "outputs": [],
   "source": [
    "from profiles.sequenceprofile import SequenceProfile"
   ]
  },
  {
   "cell_type": "code",
   "execution_count": 5,
   "metadata": {},
   "outputs": [],
   "source": [
    "# Simple Sequence Example A\n",
    "simple_sequence_example_a = {\n",
    "  \"resourceType\" : \"MolecularDefinition\",\n",
    "  \"id\" : \"example-sequence-a\",\n",
    "  \"meta\" : {\n",
    "    \"profile\" : [\"http://hl7.org/fhir/StructureDefinition/sequence\"]\n",
    "  },\n",
    "  \"moleculeType\" : {\n",
    "    \"coding\" : [{\n",
    "      \"system\" : \"http://hl7.org/fhir/sequence-type\",\n",
    "      \"code\" : \"dna\",\n",
    "      \"display\" : \"DNA Sequence\"\n",
    "    }]\n",
    "  },\n",
    "  \"representation\" : [{\n",
    "    \"literal\" : {\n",
    "      \"value\" : \"A\"\n",
    "    }\n",
    "  }]\n",
    "}"
   ]
  },
  {
   "cell_type": "code",
   "execution_count": 6,
   "metadata": {},
   "outputs": [
    {
     "data": {
      "text/plain": [
       "{'resourceType': 'MolecularDefinition',\n",
       " 'id': 'example-sequence-a',\n",
       " 'meta': {'profile': ['http://hl7.org/fhir/StructureDefinition/sequence']},\n",
       " 'moleculeType': {'coding': [{'system': 'http://hl7.org/fhir/sequence-type',\n",
       "    'code': 'dna',\n",
       "    'display': 'DNA Sequence'}]},\n",
       " 'representation': [{'literal': {'value': 'A'}}]}"
      ]
     },
     "execution_count": 6,
     "metadata": {},
     "output_type": "execute_result"
    }
   ],
   "source": [
    "SequenceProfile(**simple_sequence_example_a).model_dump()"
   ]
  },
  {
   "cell_type": "code",
   "execution_count": null,
   "metadata": {},
   "outputs": [],
   "source": [
    "# Simple Sequence Example C\n",
    "simple_sequence_example_c = {\n",
    "  \"resourceType\" : \"MolecularDefinition\",\n",
    "  \"id\" : \"example-sequence-c\",\n",
    "  \"meta\" : {\n",
    "    \"profile\" : [\"http://hl7.org/fhir/StructureDefinition/sequence\"]\n",
    "  },\n",
    "  \"moleculeType\" : {\n",
    "    \"coding\" : [{\n",
    "      \"system\" : \"http://hl7.org/fhir/sequence-type\",\n",
    "      \"code\" : \"dna\",\n",
    "      \"display\" : \"DNA Sequence\"\n",
    "    }]\n",
    "  },\n",
    "  \"representation\" : [{\n",
    "    \"literal\" : {\n",
    "      \"value\" : \"C\"\n",
    "    }\n",
    "  }]\n",
    "}"
   ]
  },
  {
   "cell_type": "code",
   "execution_count": 13,
   "metadata": {},
   "outputs": [],
   "source": [
    "from moldefresource.moleculardefinition import MolecularDefinitionRepresentation, MolecularDefinitionRepresentationLiteral\n",
    "from fhir.resources.meta import Meta\n",
    "from fhir.resources.coding import Coding\n",
    "from fhir.resources.codeableconcept import CodeableConcept\n",
    "\n",
    "MolDefLit = MolecularDefinitionRepresentationLiteral(value=\"c\")\n",
    "MolDefRep = MolecularDefinitionRepresentation(literal=MolDefLit)\n",
    "\n",
    "id_value = 'example-sequence-c'\n",
    "\n",
    "meta_value = Meta(\n",
    "    profile=[\"http://hl7.org/fhir/StructureDefinition/sequence\"]\n",
    ")\n",
    "\n",
    "coding_value = Coding(\n",
    "    system=\"http://hl7.org/fhir/sequence-type\",\n",
    "    code = \"dna\",\n",
    "    display = \"DNA Sequence\"\n",
    ")\n",
    "\n",
    "codeable_concept_value = CodeableConcept(coding=[coding_value])\n"
   ]
  },
  {
   "cell_type": "code",
   "execution_count": 14,
   "metadata": {},
   "outputs": [
    {
     "data": {
      "text/plain": [
       "{'resourceType': 'MolecularDefinition',\n",
       " 'id': 'example-sequence-c',\n",
       " 'meta': {'profile': ['http://hl7.org/fhir/StructureDefinition/sequence']},\n",
       " 'moleculeType': {'coding': [{'system': 'http://hl7.org/fhir/sequence-type',\n",
       "    'code': 'dna',\n",
       "    'display': 'DNA Sequence'}]},\n",
       " 'representation': [{'literal': {'value': 'c'}}]}"
      ]
     },
     "execution_count": 14,
     "metadata": {},
     "output_type": "execute_result"
    }
   ],
   "source": [
    "example_sequence_c = SequenceProfile(\n",
    "    id = id_value,\n",
    "    meta = meta_value, \n",
    "    moleculeType=codeable_concept_value,\n",
    "    representation=[MolDefRep]\n",
    ")\n",
    "example_sequence_c.model_dump()"
   ]
  }
 ],
 "metadata": {
  "kernelspec": {
   "display_name": "venv",
   "language": "python",
   "name": "python3"
  },
  "language_info": {
   "codemirror_mode": {
    "name": "ipython",
    "version": 3
   },
   "file_extension": ".py",
   "mimetype": "text/x-python",
   "name": "python",
   "nbconvert_exporter": "python",
   "pygments_lexer": "ipython3",
   "version": "3.11.5"
  }
 },
 "nbformat": 4,
 "nbformat_minor": 2
}
