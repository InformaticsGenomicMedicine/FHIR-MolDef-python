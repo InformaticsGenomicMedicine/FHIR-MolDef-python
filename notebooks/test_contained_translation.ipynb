{
 "cells": [
  {
   "cell_type": "code",
   "execution_count": 5,
   "metadata": {},
   "outputs": [],
   "source": [
    "from profiles.alleleprofile import AlleleProfile\n",
    "from moldeftranslator.allele_translator import VrsFhirAlleleTranslation\n",
    "\n",
    "alleleTrans = VrsFhirAlleleTranslation()"
   ]
  },
  {
   "cell_type": "code",
   "execution_count": 14,
   "metadata": {},
   "outputs": [],
   "source": [
    "allele_profile_example = {\n",
    "    \"resourceType\": \"MolecularDefinition\",\n",
    "    # This is the ID for the whole example\n",
    "    \"id\": \"TBD-THIS-IS-A-DEMO-EXAMPLE\",\n",
    "    # In this example the contained list contains the sequence that we are referncing to in the Allele Profile\n",
    "    \"contained\": [\n",
    "        {\n",
    "            \"resourceType\": \"MolecularDefinition\",\n",
    "            # This is the id for the SequenceProfile \n",
    "            \"id\": \"example-sequence-nc000002-acc\",\n",
    "            \"moleculeType\": {\n",
    "                \"coding\": [\n",
    "                    {\n",
    "                        \"system\": \"http://hl7.org/fhir/sequence-type\",\n",
    "                        \"code\": \"dna\",\n",
    "                        \"display\": \"DNA Sequence\",\n",
    "                    }\n",
    "                ]\n",
    "            },\n",
    "            # Remember SequenceProfile dones't include a location or memeberState only.\n",
    "            \"representation\": [\n",
    "                {\n",
    "                    \"code\": [\n",
    "                        {\n",
    "                            \"coding\": [\n",
    "                                {\n",
    "                                    \"system\": \"http://www.ncbi.nlm.nih.gov/refseq\",\n",
    "                                    # This is were we need to capture the reference sequence\n",
    "                                    \"code\": \"NC_000002.12\",\n",
    "                                    \"display\": \"TBD-THIS IS A DEMO EXAMPLE\",\n",
    "                                }\n",
    "                            ]\n",
    "                        }\n",
    "                    ]\n",
    "                }\n",
    "            ],\n",
    "        }\n",
    "    ],\n",
    "    \"moleculeType\": {\n",
    "        \"coding\": [\n",
    "            {\n",
    "                \"system\": \"http://hl7.org/fhir/sequence-type\",\n",
    "                # This is were we currently capture the code, but might potentially need to capture it from the sequence value. \n",
    "                \"code\": \"dna\",\n",
    "                \"display\": \"DNA Sequence\",\n",
    "            }\n",
    "        ]\n",
    "    },\n",
    "    \"location\": [\n",
    "        {\n",
    "            \"sequenceLocation\": {\n",
    "                \"sequenceContext\": {\n",
    "                    \"reference\": \"#example-sequence-nm0007694-acc\",\n",
    "                    \"type\": \"MolecularDefinition\",\n",
    "                    \"display\": \"TBD-THIS IS A DEMO EXAMPLE\",\n",
    "                },\n",
    "                \"coordinateInterval\": {\n",
    "                    \"coordinateSystem\": {\n",
    "                        \"system\": {\n",
    "                            \"coding\": [\n",
    "                                {\n",
    "                                    \"system\": \"http://loinc.org\",\n",
    "                                    \"code\": \"LA30100-4\",\n",
    "                                    # This is where we will identify the type of indexing\n",
    "                                    \"display\": \"0-based interval counting\",\n",
    "                                }\n",
    "                            ],\n",
    "                            \"text\": \"0-based interval counting\",\n",
    "                        }\n",
    "                    },\n",
    "                    # start value\n",
    "                    \"startQuantity\": {\"value\": 27453448},\n",
    "                    # end value \n",
    "                    \"endQuantity\": {\"value\": 27453449},\n",
    "                },\n",
    "            }\n",
    "        }\n",
    "    ],\n",
    "    \"representation\": [\n",
    "        {\n",
    "            \"focus\": {\n",
    "                \"coding\": [\n",
    "                    {\n",
    "                        \"code\": \"allele-state\",\n",
    "                        \"display\": \"Allele State\",\n",
    "                        # Based off of the cardinality of AlleleSplice, system is required because it has a cardinality of 1..1\n",
    "                        \"system\": \"TBD\"\n",
    "                    }\n",
    "                ]\n",
    "            },\n",
    "            \"literal\": {\n",
    "                # We capture the sequence value from allele-state and not the context-state. \n",
    "                \"value\": \"T\",\n",
    "            },\n",
    "        }\n",
    "    ],\n",
    "}"
   ]
  },
  {
   "cell_type": "code",
   "execution_count": 36,
   "metadata": {},
   "outputs": [
    {
     "data": {
      "text/plain": [
       "{'resourceType': 'MolecularDefinition',\n",
       " 'id': 'example-sequence-nc000002-acc',\n",
       " 'moleculeType': {'coding': [{'system': 'http://hl7.org/fhir/sequence-type',\n",
       "    'code': 'dna',\n",
       "    'display': 'DNA Sequence'}]},\n",
       " 'representation': [{'code': [{'coding': [{'system': 'http://www.ncbi.nlm.nih.gov/refseq',\n",
       "       'code': 'NC_000002.12',\n",
       "       'display': 'TBD-THIS IS A DEMO EXAMPLE'}]}]}]}"
      ]
     },
     "execution_count": 36,
     "metadata": {},
     "output_type": "execute_result"
    }
   ],
   "source": [
    "from profiles.sequenceprofile import SequenceProfile\n",
    "from fhir.resources.codeableconcept import CodeableConcept\n",
    "from fhir.resources.coding import Coding\n",
    "from moldefresource.moleculardefinition import MolecularDefinitionRepresentation\n",
    "\n",
    "coding_values = Coding(\n",
    "    system=\"http://hl7.org/fhir/sequence-type\",\n",
    "    code=\"dna\",\n",
    "    display=\"DNA Sequence\"\n",
    ")\n",
    "\n",
    "coding_values_2 = Coding(\n",
    "    system=\"http://www.ncbi.nlm.nih.gov/refseq\",\n",
    "    code=\"NC_000002.12\",\n",
    "    display=\"TBD-THIS IS A DEMO EXAMPLE\"\n",
    ")\n",
    "\n",
    "code_values = CodeableConcept(coding=[coding_values_2])\n",
    "\n",
    "representation_values = MolecularDefinitionRepresentation(\n",
    "    code=[code_values]\n",
    ")\n",
    "\n",
    "sequence_profile = SequenceProfile(\n",
    "    id=\"example-sequence-nc000002-acc\",\n",
    "    moleculeType=CodeableConcept(coding=[coding_values]),\n",
    "    representation=[representation_values]\n",
    ")\n",
    "\n",
    "\n",
    "sequence_profile.model_dump()"
   ]
  },
  {
   "cell_type": "code",
   "execution_count": 11,
   "metadata": {},
   "outputs": [],
   "source": [
    "example = AlleleProfile(**allele_profile_example)"
   ]
  },
  {
   "cell_type": "code",
   "execution_count": 18,
   "metadata": {},
   "outputs": [
    {
     "data": {
      "text/plain": [
       "{'resourceType': 'MolecularDefinition',\n",
       " 'id': 'example-sequence-nc000002-acc',\n",
       " 'moleculeType': {'coding': [{'system': 'http://hl7.org/fhir/sequence-type',\n",
       "    'code': 'dna',\n",
       "    'display': 'DNA Sequence'}]},\n",
       " 'representation': [{'code': [{'coding': [{'system': 'http://www.ncbi.nlm.nih.gov/refseq',\n",
       "       'code': 'NC_000002.12',\n",
       "       'display': 'TBD-THIS-IS-A-DEMO-EXAMPLE'}]}]}]}"
      ]
     },
     "execution_count": 18,
     "metadata": {},
     "output_type": "execute_result"
    }
   ],
   "source": [
    "example.contained[0].model_dump()"
   ]
  },
  {
   "cell_type": "code",
   "execution_count": 12,
   "metadata": {},
   "outputs": [
    {
     "data": {
      "text/plain": [
       "{'resourceType': 'MolecularDefinition',\n",
       " 'id': 'TBD-THIS-IS-A-DEMO-EXAMPLE',\n",
       " 'contained': [{'resourceType': 'MolecularDefinition',\n",
       "   'id': 'example-sequence-nc000002-acc',\n",
       "   'moleculeType': {'coding': [{'system': 'http://hl7.org/fhir/sequence-type',\n",
       "      'code': 'dna',\n",
       "      'display': 'DNA Sequence'}]},\n",
       "   'representation': [{'code': [{'coding': [{'system': 'http://www.ncbi.nlm.nih.gov/refseq',\n",
       "         'code': 'NC_000002.12',\n",
       "         'display': 'TBD-THIS-IS-A-DEMO-EXAMPLE'}]}]}]}],\n",
       " 'moleculeType': {'coding': [{'system': 'http://hl7.org/fhir/sequence-type',\n",
       "    'code': 'dna',\n",
       "    'display': 'DNA Sequence'}]},\n",
       " 'location': [{'sequenceLocation': {'sequenceContext': {'reference': '#example-sequence-nm0007694-acc',\n",
       "     'type': 'MolecularDefinition',\n",
       "     'display': 'TBD-THIS-IS-A-DEMO-EXAMPLE'},\n",
       "    'coordinateInterval': {'coordinateSystem': {'system': {'coding': [{'system': 'http://loinc.org',\n",
       "         'code': 'LA30100-4',\n",
       "         'display': '0-based interval counting'}],\n",
       "       'text': '0-based interval counting'}},\n",
       "     'startQuantity': {'value': 27453448.0},\n",
       "     'endQuantity': {'value': 27453449.0}}}}],\n",
       " 'representation': [{'focus': {'coding': [{'system': 'TBD',\n",
       "      'code': 'allele-state',\n",
       "      'display': 'Allele State'}]},\n",
       "   'literal': {'value': 'T'}}]}"
      ]
     },
     "execution_count": 12,
     "metadata": {},
     "output_type": "execute_result"
    }
   ],
   "source": [
    "example.model_dump()"
   ]
  },
  {
   "cell_type": "code",
   "execution_count": 15,
   "metadata": {},
   "outputs": [
    {
     "data": {
      "text/plain": [
       "{'_id': 'ga4gh:VA.fXvhngewkkyVwzEeSJRr5tro8Jcol6Q-',\n",
       " 'type': 'Allele',\n",
       " 'location': {'_id': 'ga4gh:VSL.nLMbYalHO4OEI2axqkyTMCQxrH98UpDN',\n",
       "  'type': 'SequenceLocation',\n",
       "  'sequence_id': 'ga4gh:SQ.pnAqCRBrTsUoBghSD1yp_jXWSmlbdh4g',\n",
       "  'interval': {'type': 'SequenceInterval',\n",
       "   'start': {'type': 'Number', 'value': 27453448},\n",
       "   'end': {'type': 'Number', 'value': 27453449}}},\n",
       " 'state': {'type': 'LiteralSequenceExpression', 'sequence': 'T'}}"
      ]
     },
     "execution_count": 15,
     "metadata": {},
     "output_type": "execute_result"
    }
   ],
   "source": [
    "vrs_example_from_contained = alleleTrans.translate_contained_allele_profile_to_vrs_allele(example)\n",
    "vrs_example_from_contained.as_dict()"
   ]
  },
  {
   "cell_type": "code",
   "execution_count": null,
   "metadata": {},
   "outputs": [],
   "source": []
  }
 ],
 "metadata": {
  "kernelspec": {
   "display_name": "venv",
   "language": "python",
   "name": "python3"
  },
  "language_info": {
   "codemirror_mode": {
    "name": "ipython",
    "version": 3
   },
   "file_extension": ".py",
   "mimetype": "text/x-python",
   "name": "python",
   "nbconvert_exporter": "python",
   "pygments_lexer": "ipython3",
   "version": "3.11.5"
  }
 },
 "nbformat": 4,
 "nbformat_minor": 2
}
