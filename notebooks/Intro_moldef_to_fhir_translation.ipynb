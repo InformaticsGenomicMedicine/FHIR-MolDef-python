{
 "cells": [
  {
   "cell_type": "markdown",
   "metadata": {},
   "source": [
    "#### Notebook Goal: Translate AlleleProfile into VRS object. \n",
    "\n",
    "- This notebook demonstrates how to unpack an example data point into the AlleleProfile class.\n",
    "- Once the AlleleProfile object is created, the example is converted into a VRS Allele object (version 1.3).  \n",
    "- The notebook includes two modified FHIR AlleleProfile example datasets derived from the HGVS expression: \"NC_000001.11:g.1014265del\". The key difference between these two examples, as illustrated below, is that one example does not include the Identifier, while the other does. This demonstrates that the translation of a FHIR AlleleProfile can be performed even without the GA4GH VRS Allele Identifier. Additionally, the notebook showcases the ability to handle VRS Alleles in either a normalized or unnormalized form."
   ]
  },
  {
   "cell_type": "code",
   "execution_count": 17,
   "metadata": {},
   "outputs": [],
   "source": [
    "from profiles.alleleprofile import AlleleProfile"
   ]
  },
  {
   "cell_type": "code",
   "execution_count": 18,
   "metadata": {},
   "outputs": [],
   "source": [
    "# Example 1 - Deletion origin: \"NC_000001.11:g.1014265del\"\n",
    "# example_deletion is a modified example point that comes from the Intro_vrs_to_moldef_translation.ipynb notebook.\n",
    "# This example will exclude the GA4GH Identifier.value and Identifier.assigner\n",
    "from decimal import Decimal\n",
    "\n",
    "example_deletion = {\n",
    "    \"resourceType\": \"MolecularDefinition\",\n",
    "    \"moleculeType\": {\n",
    "        \"coding\": [\n",
    "            {\n",
    "                \"system\": \"http://hl7.org/fhir/sequence-type\",\n",
    "                \"code\": \"dna\",\n",
    "                \"display\": \"DNA Sequence\",\n",
    "            }\n",
    "        ]\n",
    "    },\n",
    "    \"location\": [\n",
    "        {\n",
    "            \"sequenceLocation\": {\n",
    "                \"sequenceContext\": {\"display\": \"NC_000001.11\"},\n",
    "                \"coordinateInterval\": {\n",
    "                    \"coordinateSystem\": {\n",
    "                        \"system\": {\n",
    "                            \"coding\": [\n",
    "                                {\n",
    "                                    \"system\": \"http://loinc.org\",\n",
    "                                    \"code\": \"LA30100-4\",\n",
    "                                    \"display\": \"0-based interbase\",\n",
    "                                }\n",
    "                            ]\n",
    "                        }\n",
    "                    },\n",
    "                    \"startQuantity\": {\"value\": Decimal(\"1014263\")},\n",
    "                    \"endQuantity\": {\"value\": Decimal(\"1014265\")},\n",
    "                },\n",
    "            }\n",
    "        }\n",
    "    ],\n",
    "    \"representation\": [{\"literal\": {\"value\": \"C\"}}],\n",
    "}"
   ]
  },
  {
   "cell_type": "code",
   "execution_count": 19,
   "metadata": {},
   "outputs": [],
   "source": [
    "example_allele_deletion = AlleleProfile(**example_deletion)"
   ]
  },
  {
   "cell_type": "code",
   "execution_count": 20,
   "metadata": {},
   "outputs": [
    {
     "data": {
      "text/plain": [
       "{'resourceType': 'MolecularDefinition',\n",
       " 'moleculeType': {'coding': [{'system': 'http://hl7.org/fhir/sequence-type',\n",
       "    'code': 'dna',\n",
       "    'display': 'DNA Sequence'}]},\n",
       " 'location': [{'sequenceLocation': {'sequenceContext': {'display': 'NC_000001.11'},\n",
       "    'coordinateInterval': {'coordinateSystem': {'system': {'coding': [{'system': 'http://loinc.org',\n",
       "         'code': 'LA30100-4',\n",
       "         'display': '0-based interbase'}]}},\n",
       "     'startQuantity': {'value': Decimal('1014263')},\n",
       "     'endQuantity': {'value': Decimal('1014265')}}}}],\n",
       " 'representation': [{'literal': {'value': 'C'}}]}"
      ]
     },
     "execution_count": 20,
     "metadata": {},
     "output_type": "execute_result"
    }
   ],
   "source": [
    "example_allele_deletion.model_dump()"
   ]
  },
  {
   "cell_type": "code",
   "execution_count": 21,
   "metadata": {},
   "outputs": [],
   "source": [
    "from moldeftranslator.allele_translator import VrsFhirAlleleTranslation\n",
    "\n",
    "alleleTrans = VrsFhirAlleleTranslation()"
   ]
  },
  {
   "cell_type": "code",
   "execution_count": 22,
   "metadata": {},
   "outputs": [
    {
     "data": {
      "text/plain": [
       "{'type': 'Allele',\n",
       " 'location': {'type': 'SequenceLocation',\n",
       "  'sequence_id': 'refseq:NC_000001.11',\n",
       "  'interval': {'type': 'SequenceInterval',\n",
       "   'start': {'type': 'Number', 'value': 1014263},\n",
       "   'end': {'type': 'Number', 'value': 1014265}}},\n",
       " 'state': {'type': 'LiteralSequenceExpression', 'sequence': 'C'}}"
      ]
     },
     "execution_count": 22,
     "metadata": {},
     "output_type": "execute_result"
    }
   ],
   "source": [
    "vrs_example_allele_deletion_unnorm = alleleTrans.translate_allele_profile_to_vrs_allele(example_allele_deletion,normalize=False)\n",
    "vrs_example_allele_deletion_unnorm.as_dict()"
   ]
  },
  {
   "cell_type": "code",
   "execution_count": 23,
   "metadata": {},
   "outputs": [
    {
     "data": {
      "text/plain": [
       "{'_id': 'ga4gh:VA.BmF3zr2l6XLpLaK8GInM6Q3Emc3JyPD3',\n",
       " 'type': 'Allele',\n",
       " 'location': {'_id': 'ga4gh:VSL.i6Of9s2jVDuJ4vwU6sCeG-jT7ygmlfx6',\n",
       "  'type': 'SequenceLocation',\n",
       "  'sequence_id': 'ga4gh:SQ.Ya6Rs7DHhDeg7YaOSg1EoNi3U_nQ9SvO',\n",
       "  'interval': {'type': 'SequenceInterval',\n",
       "   'start': {'type': 'Number', 'value': 1014263},\n",
       "   'end': {'type': 'Number', 'value': 1014265}}},\n",
       " 'state': {'type': 'LiteralSequenceExpression', 'sequence': 'C'}}"
      ]
     },
     "execution_count": 23,
     "metadata": {},
     "output_type": "execute_result"
    }
   ],
   "source": [
    "vrs_example_allele_deletion_norm = alleleTrans.translate_allele_profile_to_vrs_allele(example_allele_deletion)\n",
    "vrs_example_allele_deletion_norm.as_dict()"
   ]
  },
  {
   "cell_type": "code",
   "execution_count": 24,
   "metadata": {},
   "outputs": [],
   "source": [
    "# Example 1 - Deletion origin: \"NC_000001.11:g.1014265del\"\n",
    "# example_deletion_2 is a not modified that comes from the Intro_vrs_to_moldef_translation.ipynb notebook.\n",
    "\n",
    "from decimal import Decimal\n",
    "\n",
    "example_deletion_2 = {\n",
    "    \"resourceType\": \"MolecularDefinition\",\n",
    "    \"identifier\": [\n",
    "        {\n",
    "            \"value\": \"ga4gh:VA.BmF3zr2l6XLpLaK8GInM6Q3Emc3JyPD3\",\n",
    "            \"assigner\": {\"display\": \"Global Alliance for Genomics and Health\"},\n",
    "        }\n",
    "    ],\n",
    "    \"moleculeType\": {\n",
    "        \"coding\": [\n",
    "            {\n",
    "                \"system\": \"http://hl7.org/fhir/sequence-type\",\n",
    "                \"code\": \"dna\",\n",
    "                \"display\": \"DNA Sequence\",\n",
    "            }\n",
    "        ]\n",
    "    },\n",
    "    \"location\": [\n",
    "        {\n",
    "            \"sequenceLocation\": {\n",
    "                \"sequenceContext\": {\"display\": \"NC_000001.11\"},\n",
    "                \"coordinateInterval\": {\n",
    "                    \"coordinateSystem\": {\n",
    "                        \"system\": {\n",
    "                            \"coding\": [\n",
    "                                {\n",
    "                                    \"system\": \"http://loinc.org\",\n",
    "                                    \"code\": \"LA30100-4\",\n",
    "                                    \"display\": \"0-based interbase\",\n",
    "                                }\n",
    "                            ]\n",
    "                        }\n",
    "                    },\n",
    "                    \"startQuantity\": {\"value\": Decimal(\"1014263\")},\n",
    "                    \"endQuantity\": {\"value\": Decimal(\"1014265\")},\n",
    "                },\n",
    "            }\n",
    "        }\n",
    "    ],\n",
    "    \"representation\": [{\"literal\": {\"value\": \"C\"}}],\n",
    "}\n"
   ]
  },
  {
   "cell_type": "code",
   "execution_count": 25,
   "metadata": {},
   "outputs": [
    {
     "data": {
      "text/plain": [
       "{'resourceType': 'MolecularDefinition',\n",
       " 'identifier': [{'value': 'ga4gh:VA.BmF3zr2l6XLpLaK8GInM6Q3Emc3JyPD3',\n",
       "   'assigner': {'display': 'Global Alliance for Genomics and Health'}}],\n",
       " 'moleculeType': {'coding': [{'system': 'http://hl7.org/fhir/sequence-type',\n",
       "    'code': 'dna',\n",
       "    'display': 'DNA Sequence'}]},\n",
       " 'location': [{'sequenceLocation': {'sequenceContext': {'display': 'NC_000001.11'},\n",
       "    'coordinateInterval': {'coordinateSystem': {'system': {'coding': [{'system': 'http://loinc.org',\n",
       "         'code': 'LA30100-4',\n",
       "         'display': '0-based interbase'}]}},\n",
       "     'startQuantity': {'value': Decimal('1014263')},\n",
       "     'endQuantity': {'value': Decimal('1014265')}}}}],\n",
       " 'representation': [{'literal': {'value': 'C'}}]}"
      ]
     },
     "execution_count": 25,
     "metadata": {},
     "output_type": "execute_result"
    }
   ],
   "source": [
    "example_allele_deletion_2 = AlleleProfile(**example_deletion_2)\n",
    "example_allele_deletion_2.model_dump()"
   ]
  },
  {
   "cell_type": "code",
   "execution_count": 26,
   "metadata": {},
   "outputs": [
    {
     "data": {
      "text/plain": [
       "{'_id': 'ga4gh:VA.BmF3zr2l6XLpLaK8GInM6Q3Emc3JyPD3',\n",
       " 'type': 'Allele',\n",
       " 'location': {'_id': 'ga4gh:VSL.i6Of9s2jVDuJ4vwU6sCeG-jT7ygmlfx6',\n",
       "  'type': 'SequenceLocation',\n",
       "  'sequence_id': 'ga4gh:SQ.Ya6Rs7DHhDeg7YaOSg1EoNi3U_nQ9SvO',\n",
       "  'interval': {'type': 'SequenceInterval',\n",
       "   'start': {'type': 'Number', 'value': 1014263},\n",
       "   'end': {'type': 'Number', 'value': 1014265}}},\n",
       " 'state': {'type': 'LiteralSequenceExpression', 'sequence': 'C'}}"
      ]
     },
     "execution_count": 26,
     "metadata": {},
     "output_type": "execute_result"
    }
   ],
   "source": [
    "vrs_example_allele_deletion_2 = alleleTrans.translate_allele_profile_to_vrs_allele(example_allele_deletion_2)\n",
    "vrs_example_allele_deletion_2.as_dict()"
   ]
  }
 ],
 "metadata": {
  "kernelspec": {
   "display_name": "venv",
   "language": "python",
   "name": "python3"
  },
  "language_info": {
   "codemirror_mode": {
    "name": "ipython",
    "version": 3
   },
   "file_extension": ".py",
   "mimetype": "text/x-python",
   "name": "python",
   "nbconvert_exporter": "python",
   "pygments_lexer": "ipython3",
   "version": "3.11.5"
  }
 },
 "nbformat": 4,
 "nbformat_minor": 2
}
