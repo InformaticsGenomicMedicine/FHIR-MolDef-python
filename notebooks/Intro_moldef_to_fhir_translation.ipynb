{
 "cells": [
  {
   "cell_type": "code",
   "execution_count": 1,
   "metadata": {},
   "outputs": [],
   "source": [
    "example = {\n",
    "    'resourceType': 'MolecularDefinition',\n",
    "    'identifier': [{\n",
    "        'value': 'ga4gh:VA.fXvhngewkkyVwzEeSJRr5tro8Jcol6Q-',\n",
    "        'assigner': {'display': 'Global Alliance for Genomics and Health'}\n",
    "    }],\n",
    "    'moleculeType': {\n",
    "        'coding': [{\n",
    "            'system': 'http://hl7.org/fhir/sequence-type',\n",
    "            'code': 'dna',\n",
    "            'display': 'DNA Sequence'\n",
    "        }]\n",
    "    },\n",
    "    'location': [{\n",
    "        'sequenceLocation': {\n",
    "            'sequenceContext': {\n",
    "                \"reference\": \"MolecularDefinition/example-sequence-lrg584\", # This is made up \n",
    "                \"type\": \"MolecularDefinition\",\n",
    "                \"display\": \"NC_000002.12\"\n",
    "            },\n",
    "            'coordinateInterval': {\n",
    "                'coordinateSystem': {\n",
    "                    'system': {\n",
    "                        'coding': [{\n",
    "                            'system': 'http://loinc.org',\n",
    "                            'code': 'LA30100-4',\n",
    "                            'display': '0-based interbase'\n",
    "                        }]\n",
    "                    }\n",
    "                },\n",
    "                'startQuantity': {'value': 27453448},\n",
    "                'endQuantity': {'value': 27453449}\n",
    "            }\n",
    "        }\n",
    "    }],\n",
    "    'representation': [{'literal': {'value': 'T'}}]\n",
    "}"
   ]
  },
  {
   "cell_type": "code",
   "execution_count": 2,
   "metadata": {},
   "outputs": [],
   "source": [
    "from profiles.alleleprofile import AlleleProfile"
   ]
  },
  {
   "cell_type": "code",
   "execution_count": 3,
   "metadata": {},
   "outputs": [],
   "source": [
    "example1 = AlleleProfile(**example)"
   ]
  },
  {
   "cell_type": "code",
   "execution_count": 4,
   "metadata": {},
   "outputs": [
    {
     "data": {
      "text/plain": [
       "{'resourceType': 'MolecularDefinition',\n",
       " 'identifier': [{'value': 'ga4gh:VA.fXvhngewkkyVwzEeSJRr5tro8Jcol6Q-',\n",
       "   'assigner': {'display': 'Global Alliance for Genomics and Health'}}],\n",
       " 'moleculeType': {'coding': [{'system': 'http://hl7.org/fhir/sequence-type',\n",
       "    'code': 'dna',\n",
       "    'display': 'DNA Sequence'}]},\n",
       " 'location': [{'sequenceLocation': {'sequenceContext': {'reference': 'MolecularDefinition/example-sequence-lrg584',\n",
       "     'type': 'MolecularDefinition',\n",
       "     'display': 'NC_000002.12'},\n",
       "    'coordinateInterval': {'coordinateSystem': {'system': {'coding': [{'system': 'http://loinc.org',\n",
       "         'code': 'LA30100-4',\n",
       "         'display': '0-based interbase'}]}},\n",
       "     'startQuantity': {'value': Decimal('27453448')},\n",
       "     'endQuantity': {'value': Decimal('27453449')}}}}],\n",
       " 'representation': [{'literal': {'value': 'T'}}]}"
      ]
     },
     "execution_count": 4,
     "metadata": {},
     "output_type": "execute_result"
    }
   ],
   "source": [
    "example1.model_dump()"
   ]
  },
  {
   "cell_type": "code",
   "execution_count": 5,
   "metadata": {},
   "outputs": [
    {
     "name": "stderr",
     "output_type": "stream",
     "text": [
      "/Users/M278428/Documents/rf_lab_projects/FHIR-MolDef-python/venv/lib/python3.11/site-packages/python_jsonschema_objects/__init__.py:46: UserWarning: Schema version http://json-schema.org/draft-07/schema not recognized. Some keywords and features may not be supported.\n",
      "  warnings.warn(\n"
     ]
    }
   ],
   "source": [
    "from moldeftranslator.allele_translator import VrsFhirAlleleTranslation\n",
    "\n",
    "alleleTrans = VrsFhirAlleleTranslation()"
   ]
  },
  {
   "cell_type": "code",
   "execution_count": 6,
   "metadata": {},
   "outputs": [],
   "source": [
    "vrs_example_translated = alleleTrans.translate_allele_profile_to_vrs_allele(example1,normalize=True)"
   ]
  },
  {
   "cell_type": "code",
   "execution_count": 7,
   "metadata": {},
   "outputs": [
    {
     "data": {
      "text/plain": [
       "{'_id': 'ga4gh:VA.fXvhngewkkyVwzEeSJRr5tro8Jcol6Q-',\n",
       " 'type': 'Allele',\n",
       " 'location': {'_id': 'ga4gh:VSL.nLMbYalHO4OEI2axqkyTMCQxrH98UpDN',\n",
       "  'type': 'SequenceLocation',\n",
       "  'sequence_id': 'ga4gh:SQ.pnAqCRBrTsUoBghSD1yp_jXWSmlbdh4g',\n",
       "  'interval': {'type': 'SequenceInterval',\n",
       "   'start': {'type': 'Number', 'value': 27453448},\n",
       "   'end': {'type': 'Number', 'value': 27453449}}},\n",
       " 'state': {'type': 'LiteralSequenceExpression', 'sequence': 'T'}}"
      ]
     },
     "execution_count": 7,
     "metadata": {},
     "output_type": "execute_result"
    }
   ],
   "source": [
    "vrs_example_translated.as_dict()"
   ]
  },
  {
   "cell_type": "code",
   "execution_count": 11,
   "metadata": {},
   "outputs": [],
   "source": [
    "# example = {'resourceType': 'MolecularDefinition',\n",
    "#  'identifier': [{'value': 'ga4gh:VA.BAzdGf6SGQgUBZCADrRGSS61qYzhDWgy',\n",
    "#    'assigner': {'display': 'Global Alliance for Genomics and Health'}}],\n",
    "#  'moleculeType': {'coding': [{'system': 'http://hl7.org/fhir/sequence-type',\n",
    "#     'code': 'dna',\n",
    "#     'display': 'DNA Sequence'}]},\n",
    "#  'location': [{'sequenceLocation': {'sequenceContext': {'display': 'NC_000016.10'},\n",
    "#     'coordinateInterval': {'coordinateSystem': {'system': {'coding': [{'system': 'http://loinc.org',\n",
    "#          'code': 'LA30100-4',\n",
    "#          'display': '0-based interbase'}]}},\n",
    "#      'startQuantity': {'value': Decimal('1510945')},\n",
    "#      'endQuantity': {'value': Decimal('1510947')}}}}],\n",
    "#  'representation': [{'literal': {'value': ' '}}]}\n",
    "\n",
    "from profiles.alleleprofile import AlleleProfile\n",
    "example1 = AlleleProfile(**example)"
   ]
  },
  {
   "cell_type": "code",
   "execution_count": 13,
   "metadata": {},
   "outputs": [
    {
     "data": {
      "text/plain": [
       "{'resourceType': 'MolecularDefinition',\n",
       " 'identifier': [{'value': 'ga4gh:VA.fXvhngewkkyVwzEeSJRr5tro8Jcol6Q-',\n",
       "   'assigner': {'display': 'Global Alliance for Genomics and Health'}}],\n",
       " 'moleculeType': {'coding': [{'system': 'http://hl7.org/fhir/sequence-type',\n",
       "    'code': 'dna',\n",
       "    'display': 'DNA Sequence'}]},\n",
       " 'location': [{'sequenceLocation': {'sequenceContext': {'reference': 'MolecularDefinition/example-sequence-lrg584',\n",
       "     'type': 'MolecularDefinition',\n",
       "     'display': 'NC_000002.12'},\n",
       "    'coordinateInterval': {'coordinateSystem': {'system': {'coding': [{'system': 'http://loinc.org',\n",
       "         'code': 'LA30100-4',\n",
       "         'display': '0-based interbase'}]}},\n",
       "     'startQuantity': {'value': Decimal('27453448')},\n",
       "     'endQuantity': {'value': Decimal('27453449')}}}}],\n",
       " 'representation': [{'literal': {'value': 'T'}}]}"
      ]
     },
     "execution_count": 13,
     "metadata": {},
     "output_type": "execute_result"
    }
   ],
   "source": [
    "example1.model_dump()"
   ]
  },
  {
   "cell_type": "code",
   "execution_count": null,
   "metadata": {},
   "outputs": [],
   "source": []
  }
 ],
 "metadata": {
  "kernelspec": {
   "display_name": "venv",
   "language": "python",
   "name": "python3"
  },
  "language_info": {
   "codemirror_mode": {
    "name": "ipython",
    "version": 3
   },
   "file_extension": ".py",
   "mimetype": "text/x-python",
   "name": "python",
   "nbconvert_exporter": "python",
   "pygments_lexer": "ipython3",
   "version": "3.11.5"
  }
 },
 "nbformat": 4,
 "nbformat_minor": 2
}
