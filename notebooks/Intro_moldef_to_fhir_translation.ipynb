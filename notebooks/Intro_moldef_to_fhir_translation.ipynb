{
 "cells": [
  {
   "cell_type": "markdown",
   "metadata": {},
   "source": [
    "#### Notebook Goal: Translate AlleleProfile into VRS object. \n",
    "\n",
    "- This notebook demonstrates how to unpack an example data point into the AlleleProfile class.\n",
    "- Once the AlleleProfile object is created, the example is converted into a VRS Allele object (version 1.3).  \n",
    "- The notebook includes two modified FHIR AlleleProfile example datasets derived from the HGVS expression: \"NC_000001.11:g.1014265del\". The key difference between these two examples, as illustrated below, is that one example does not include the Identifier, while the other does. This demonstrates that the translation of a FHIR AlleleProfile can be performed even without the GA4GH VRS Allele Identifier. Additionally, the notebook showcases the ability to handle VRS Alleles in either a normalized or unnormalized form."
   ]
  },
  {
   "cell_type": "code",
   "execution_count": 15,
   "metadata": {},
   "outputs": [],
   "source": [
    "from profiles.alleleprofile import AlleleProfile"
   ]
  },
  {
   "cell_type": "code",
   "execution_count": 16,
   "metadata": {},
   "outputs": [],
   "source": [
    "# Example 1 - Substitition origin: \"NC_000002.12:g.27453449C>T\"\n",
    "# example_deletion is a modified example point that comes from the Intro_vrs_to_moldef_translation.ipynb notebook.\n",
    "# This example will exclude the GA4GH Identifier.value and Identifier.assigner\n",
    "from decimal import Decimal\n",
    "\n",
    "example_substitition ={\n",
    "    \"resourceType\" : \"MolecularDefinition\",\n",
    "    \"id\" : \"demo-example-hgvs-substitition\",\n",
    "    \"meta\" : {\n",
    "      \"profile\" : [\"http://hl7.org/fhir/StructureDefinition/allelesliced\"]\n",
    "    },\n",
    "    \"moleculeType\" : {\n",
    "      \"coding\" : [{\n",
    "        \"system\" : \"http://hl7.org/fhir/sequence-type\",\n",
    "        \"code\" : \"dna\",\n",
    "        \"display\" : \"DNA Sequence\"\n",
    "      }]\n",
    "    },\n",
    "    \"location\" : [\n",
    "        {\n",
    "      \"sequenceLocation\" : {\n",
    "        \"sequenceContext\" : {\n",
    "          \"reference\" : \"MolecularDefinition/example-sequence-nc000002-url\",\n",
    "          \"type\" : \"MolecularDefinition\",\n",
    "          # Example needs to contain the reference sequence\n",
    "          \"display\" : \"NC_000002.12\"\n",
    "        },\n",
    "        \"coordinateInterval\" : {\n",
    "          \"coordinateSystem\" : {\n",
    "            \"system\" : {\n",
    "              \"coding\" : [{\n",
    "                \"system\" : \"http://loinc.org\",\n",
    "                \"code\" : \"LA30100-4\",\n",
    "                # Example needs to contain the systems coordinate\n",
    "                \"display\" : \"0-based interbase\" \n",
    "              }],\n",
    "              \"text\" : \"0-based interbase\"\n",
    "            }\n",
    "          },\n",
    "          # Example needs to contain the startQuantity\n",
    "          \"startQuantity\" : {\n",
    "            \"value\" : Decimal(27453448)\n",
    "          },\n",
    "          # Example needs to contain the endQuantity\n",
    "          \"endQuantity\" : {\n",
    "            \"value\" : Decimal(27453449)\n",
    "          }\n",
    "        }\n",
    "      }\n",
    "    }\n",
    "    ],\n",
    "    \"representation\" : [{\n",
    "      \"focus\" : {\n",
    "        \"coding\" : [{\n",
    "          \"system\" : \"http://hl7.org/fhir/moleculardefinition-focus\",\n",
    "          \"code\" : \"allele-state\",\n",
    "          \"display\" : \"Allele State\"\n",
    "        }]\n",
    "      },\n",
    "      \"literal\" : {\n",
    "        \"value\" : \"T\"\n",
    "      }\n",
    "    }]\n",
    "  }"
   ]
  },
  {
   "cell_type": "code",
   "execution_count": 17,
   "metadata": {},
   "outputs": [],
   "source": [
    "example_allele_substitition = AlleleProfile(**example_substitition)"
   ]
  },
  {
   "cell_type": "code",
   "execution_count": 18,
   "metadata": {},
   "outputs": [
    {
     "data": {
      "text/plain": [
       "{'resourceType': 'MolecularDefinition',\n",
       " 'id': 'demo-example-hgvs-substitition',\n",
       " 'meta': {'profile': ['http://hl7.org/fhir/StructureDefinition/allelesliced']},\n",
       " 'moleculeType': {'coding': [{'system': 'http://hl7.org/fhir/sequence-type',\n",
       "    'code': 'dna',\n",
       "    'display': 'DNA Sequence'}]},\n",
       " 'location': [{'sequenceLocation': {'sequenceContext': {'reference': 'MolecularDefinition/example-sequence-nc000002-url',\n",
       "     'type': 'MolecularDefinition',\n",
       "     'display': 'NC_000002.12'},\n",
       "    'coordinateInterval': {'coordinateSystem': {'system': {'coding': [{'system': 'http://loinc.org',\n",
       "         'code': 'LA30100-4',\n",
       "         'display': '0-based interbase'}],\n",
       "       'text': '0-based interbase'}},\n",
       "     'startQuantity': {'value': Decimal('27453448')},\n",
       "     'endQuantity': {'value': Decimal('27453449')}}}}],\n",
       " 'representation': [{'focus': {'coding': [{'system': 'http://hl7.org/fhir/moleculardefinition-focus',\n",
       "      'code': 'allele-state',\n",
       "      'display': 'Allele State'}]},\n",
       "   'literal': {'value': 'T'}}]}"
      ]
     },
     "execution_count": 18,
     "metadata": {},
     "output_type": "execute_result"
    }
   ],
   "source": [
    "example_allele_substitition.model_dump()"
   ]
  },
  {
   "cell_type": "code",
   "execution_count": 19,
   "metadata": {},
   "outputs": [],
   "source": [
    "from moldeftranslator.allele_translator import VrsFhirAlleleTranslation\n",
    "\n",
    "alleleTrans = VrsFhirAlleleTranslation()"
   ]
  },
  {
   "cell_type": "code",
   "execution_count": 20,
   "metadata": {},
   "outputs": [
    {
     "data": {
      "text/plain": [
       "{'type': 'Allele',\n",
       " 'location': {'type': 'SequenceLocation',\n",
       "  'sequence_id': 'refseq:NC_000002.12',\n",
       "  'interval': {'type': 'SequenceInterval',\n",
       "   'start': {'type': 'Number', 'value': 27453448},\n",
       "   'end': {'type': 'Number', 'value': 27453449}}},\n",
       " 'state': {'type': 'LiteralSequenceExpression', 'sequence': 'T'}}"
      ]
     },
     "execution_count": 20,
     "metadata": {},
     "output_type": "execute_result"
    }
   ],
   "source": [
    "vrs_example_allele_substitition_unnorm = alleleTrans.translate_allele_profile_to_vrs_allele(example_allele_substitition,normalize=False)\n",
    "vrs_example_allele_substitition_unnorm.as_dict()"
   ]
  },
  {
   "cell_type": "code",
   "execution_count": 21,
   "metadata": {},
   "outputs": [
    {
     "data": {
      "text/plain": [
       "{'_id': 'ga4gh:VA.fXvhngewkkyVwzEeSJRr5tro8Jcol6Q-',\n",
       " 'type': 'Allele',\n",
       " 'location': {'_id': 'ga4gh:VSL.nLMbYalHO4OEI2axqkyTMCQxrH98UpDN',\n",
       "  'type': 'SequenceLocation',\n",
       "  'sequence_id': 'ga4gh:SQ.pnAqCRBrTsUoBghSD1yp_jXWSmlbdh4g',\n",
       "  'interval': {'type': 'SequenceInterval',\n",
       "   'start': {'type': 'Number', 'value': 27453448},\n",
       "   'end': {'type': 'Number', 'value': 27453449}}},\n",
       " 'state': {'type': 'LiteralSequenceExpression', 'sequence': 'T'}}"
      ]
     },
     "execution_count": 21,
     "metadata": {},
     "output_type": "execute_result"
    }
   ],
   "source": [
    "vrs_example_allele_substitition_norm = alleleTrans.translate_allele_profile_to_vrs_allele(example_allele_substitition)\n",
    "vrs_example_allele_substitition_norm.as_dict()"
   ]
  },
  {
   "cell_type": "code",
   "execution_count": 22,
   "metadata": {},
   "outputs": [],
   "source": [
    "# Example 2 - insertion origin: \"NC_000001.11:g.113901365_113901366insATA\"\n",
    "# example_insertion_2 is a not modified that comes from the Intro_vrs_to_moldef_translation.ipynb notebook.\n",
    "\n",
    "\n",
    "from decimal import Decimal\n",
    "\n",
    "example_insertion_2 = {\n",
    "    \"resourceType\" : \"MolecularDefinition\",\n",
    "    \"id\" : \"demo-example-hgvs-insertion\",\n",
    "    \"meta\" : {\n",
    "      \"profile\" : [\"http://hl7.org/fhir/StructureDefinition/allelesliced\"]\n",
    "    },\n",
    "    \"moleculeType\" : {\n",
    "      \"coding\" : [{\n",
    "        \"system\" : \"http://hl7.org/fhir/sequence-type\",\n",
    "        \"code\" : \"dna\",\n",
    "        \"display\" : \"DNA Sequence\"\n",
    "      }]\n",
    "    },\n",
    "    \"location\" : [\n",
    "        {\n",
    "      \"sequenceLocation\" : {\n",
    "        \"sequenceContext\" : {\n",
    "          \"reference\" : \"MolecularDefinition/example-sequence-nc000001-url\",\n",
    "          \"type\" : \"MolecularDefinition\",\n",
    "          \"display\" : \"NC_000001.11\" # Must only contain the reference sequence \n",
    "        },\n",
    "        \"coordinateInterval\" : {\n",
    "          \"coordinateSystem\" : {\n",
    "            \"system\" : {\n",
    "              \"coding\" : [{\n",
    "                \"system\" : \"http://loinc.org\",\n",
    "                \"code\" : \"LA30100-4\",\n",
    "                \"display\" : \"0-based interbase\" # Must only contain the systems coordinate\n",
    "              }],\n",
    "              \"text\" : \"0-based interbase\"\n",
    "            }\n",
    "          },\n",
    "          # Example needs to contain the startQuantity\n",
    "          \"startQuantity\" : {\n",
    "            \"value\" : Decimal(113901365)\n",
    "          },\n",
    "          # Example needs to contain the endQuantity\n",
    "          \"endQuantity\" : {\n",
    "            \"value\" : Decimal(113901365)\n",
    "          }\n",
    "        },\n",
    "      }\n",
    "    }\n",
    "    ],\n",
    "    \"representation\" : [{\n",
    "      \"focus\" : {\n",
    "        \"coding\" : [{\n",
    "          \"system\" : \"http://hl7.org/fhir/moleculardefinition-focus\",\n",
    "          \"code\" : \"allele-state\",\n",
    "          \"display\" : \"Allele State\"\n",
    "        }]\n",
    "      },\n",
    "      \"literal\" : {\n",
    "        \"value\" : \"ATA\"\n",
    "      }\n",
    "    }]\n",
    "  }\n"
   ]
  },
  {
   "cell_type": "code",
   "execution_count": 23,
   "metadata": {},
   "outputs": [
    {
     "data": {
      "text/plain": [
       "{'resourceType': 'MolecularDefinition',\n",
       " 'id': 'demo-example-hgvs-insertion',\n",
       " 'meta': {'profile': ['http://hl7.org/fhir/StructureDefinition/allelesliced']},\n",
       " 'moleculeType': {'coding': [{'system': 'http://hl7.org/fhir/sequence-type',\n",
       "    'code': 'dna',\n",
       "    'display': 'DNA Sequence'}]},\n",
       " 'location': [{'sequenceLocation': {'sequenceContext': {'reference': 'MolecularDefinition/example-sequence-nc000001-url',\n",
       "     'type': 'MolecularDefinition',\n",
       "     'display': 'NC_000001.11'},\n",
       "    'coordinateInterval': {'coordinateSystem': {'system': {'coding': [{'system': 'http://loinc.org',\n",
       "         'code': 'LA30100-4',\n",
       "         'display': '0-based interbase'}],\n",
       "       'text': '0-based interbase'}},\n",
       "     'startQuantity': {'value': Decimal('113901365')},\n",
       "     'endQuantity': {'value': Decimal('113901365')}}}}],\n",
       " 'representation': [{'focus': {'coding': [{'system': 'http://hl7.org/fhir/moleculardefinition-focus',\n",
       "      'code': 'allele-state',\n",
       "      'display': 'Allele State'}]},\n",
       "   'literal': {'value': 'ATA'}}]}"
      ]
     },
     "execution_count": 23,
     "metadata": {},
     "output_type": "execute_result"
    }
   ],
   "source": [
    "example_allele_insertion_2 = AlleleProfile(**example_insertion_2)\n",
    "example_allele_insertion_2.model_dump()"
   ]
  },
  {
   "cell_type": "code",
   "execution_count": 24,
   "metadata": {},
   "outputs": [
    {
     "data": {
      "text/plain": [
       "{'_id': 'ga4gh:VA.J9BMdktHGGjE843oD0T_bwUV6WxojkCW',\n",
       " 'type': 'Allele',\n",
       " 'location': {'_id': 'ga4gh:VSL.TMxdXtmi4ctcTRipHMD6py1Nv1kLMyJd',\n",
       "  'type': 'SequenceLocation',\n",
       "  'sequence_id': 'ga4gh:SQ.Ya6Rs7DHhDeg7YaOSg1EoNi3U_nQ9SvO',\n",
       "  'interval': {'type': 'SequenceInterval',\n",
       "   'start': {'type': 'Number', 'value': 113901365},\n",
       "   'end': {'type': 'Number', 'value': 113901365}}},\n",
       " 'state': {'type': 'LiteralSequenceExpression', 'sequence': 'ATA'}}"
      ]
     },
     "execution_count": 24,
     "metadata": {},
     "output_type": "execute_result"
    }
   ],
   "source": [
    "vrs_example_allele_insertion_2 = alleleTrans.translate_allele_profile_to_vrs_allele(example_allele_insertion_2)\n",
    "vrs_example_allele_insertion_2.as_dict()"
   ]
  }
 ],
 "metadata": {
  "kernelspec": {
   "display_name": "venv",
   "language": "python",
   "name": "python3"
  },
  "language_info": {
   "codemirror_mode": {
    "name": "ipython",
    "version": 3
   },
   "file_extension": ".py",
   "mimetype": "text/x-python",
   "name": "python",
   "nbconvert_exporter": "python",
   "pygments_lexer": "ipython3",
   "version": "3.11.5"
  }
 },
 "nbformat": 4,
 "nbformat_minor": 2
}
