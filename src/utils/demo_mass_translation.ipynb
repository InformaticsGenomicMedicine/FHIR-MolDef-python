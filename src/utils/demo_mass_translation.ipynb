{
 "cells": [
  {
   "cell_type": "markdown",
   "id": "2760664b",
   "metadata": {},
   "source": [
    "### Demonstration Overview: Bulk Translation (VRS → FHIR Allele Profiles)\n",
    "\n",
    "This notebook demosntrates a bulk translation of ~2,000 Allele records from **VRS Allele Dictionary** into **FHIR Allele Profiles**, and documents both successes and failures.\n",
    "\n",
    "**Goals**\n",
    "- Show that the translation pipeline works at scale on a large dataset.\n",
    "- Provide insight into which inputs successfully translate into valid FHIR profiles.\n",
    "- Highlight problematic or unmapped values and categorize the reasons they fail.\n"
   ]
  },
  {
   "cell_type": "markdown",
   "id": "c30a8df1",
   "metadata": {},
   "source": [
    "\n",
    "The input consists of three datasets, each loaded as a DataFrame:\n",
    "\n",
    "- **`spdiDF`** → Parsed from `spdi-Allele.jsonl`  \n",
    "  - Contains 1,000 SPDI Allele examples.  \n",
    "  - All examples were successfully translated to FHIR Allele Profiles (no errors).\n",
    "\n",
    "- **`hgvsDF`** → Parsed from `hgvs-Allele.jsonl`  \n",
    "  - Contains 1,000 HGVS Allele examples.  \n",
    "  - Some examples encountered translation issues.\n",
    "\n",
    "- **`errorDF`** → Parsed from `hgvs-ErrorTranslation.jsonl`  \n",
    "  - Captures the HGVS Alleles that failed translation.  \n",
    "  - Useful for analysis of unmapped or invalid values."
   ]
  },
  {
   "cell_type": "code",
   "execution_count": 14,
   "id": "ac791a2a",
   "metadata": {},
   "outputs": [
    {
     "name": "stdout",
     "output_type": "stream",
     "text": [
      "SPDI: 1000\n",
      "HGVS: 1000\n",
      "Errors: 210\n"
     ]
    }
   ],
   "source": [
    "import pandas as pd\n",
    "\n",
    "# Load input data\n",
    "spdiDF = pd.read_json(\"spdi-Allele.jsonl\", lines=True)\n",
    "hgvsDF = pd.read_json(\"hgvs-Allele.jsonl\", lines=True)\n",
    "errorDF = pd.read_json(\"hgvs-ErrorTranslation.jsonl\",lines=True)\n",
    "\n",
    "# Quick Check\n",
    "print(\"SPDI:\", len(spdiDF))\n",
    "print(\"HGVS:\", len(hgvsDF))\n",
    "print(\"Errors:\", len(errorDF))"
   ]
  },
  {
   "cell_type": "code",
   "execution_count": null,
   "id": "8673628c",
   "metadata": {},
   "outputs": [],
   "source": [
    "def count_state_type(df):\n",
    "    counts = {\n",
    "        \"ReferenceLengthExpression\": 0,\n",
    "        \"LiteralSequenceExpression\": 0,\n",
    "        \"Other\": 0\n",
    "    }\n",
    "\n",
    "    for vo in df[\"out\"]:\n",
    "        if isinstance(vo, dict):\n",
    "            type_val = vo.get(\"state\", {}).get(\"type\", \"\")\n",
    "            if \"LiteralSequenceExpression\" in type_val:\n",
    "                counts[\"LiteralSequenceExpression\"] += 1\n",
    "            elif \"ReferenceLengthExpression\" in type_val:\n",
    "                counts[\"ReferenceLengthExpression\"] += 1\n",
    "            else:\n",
    "                counts[\"Other\"] += 1\n",
    "        else:\n",
    "            counts[\"Other\"] += 1\n",
    "\n",
    "    return counts\n",
    "\n",
    "def types_of_error(error_df):\n",
    "\n",
    "    val_counts = {\n",
    "        \"HGVSParseError\": error_df[\"ERROR\"].str.contains(\"HGVSParseError\").sum(),\n",
    "        \"ValueError\": error_df[\"ERROR\"].str.contains(\"ValueError\").sum(),\n",
    "        \"Task did not complete\": error_df[\"ERROR\"].str.contains(\"Task did not complete\").sum(),\n",
    "        \"AttributeError\": error_df[\"ERROR\"].str.contains(\"AttributeError\").sum(),\n",
    "        \"HGVSDataNotAvailable\": error_df[\"ERROR\"].str.contains(\"HGVSDataNotAvailableError\").sum(),\n",
    "        \"HGVSInvalidVariant\": error_df[\"ERROR\"].str.contains(\"HGVSInvalidVariantError\").sum(),\n",
    "    }\n",
    "\n",
    "    return(val_counts)"
   ]
  },
  {
   "cell_type": "markdown",
   "id": "c8f3d0a3",
   "metadata": {},
   "source": [
    "## Allele State Distribution\n",
    "\n",
    "We count the occurrences of each **Allele State** in the SPDI and HGVS inputs to understand the composition of the data and where translations may fail.\n",
    "\n",
    "- **`SPDI`** is uniform and fully translatable in this dataset (all examples are `ReferenceLengthExpression`).\n",
    "- **`HGVS`** includes multiple state types. The **`Other`** category represents technical HGVS expressions that could not be mapped to valid **VRS Alleles** and therefore could not be translated into **FHIR Allele Profiles**. These cases are captured in **`errorDF`** for analysis.\n"
   ]
  },
  {
   "cell_type": "code",
   "execution_count": 11,
   "id": "4c7026e1",
   "metadata": {},
   "outputs": [
    {
     "name": "stdout",
     "output_type": "stream",
     "text": [
      "SPDI file\n",
      "{'ReferenceLengthExpression': 1000, 'LiteralSequenceExpression': 0, 'Other': 0}\n",
      "HGVS file\n",
      "{'ReferenceLengthExpression': 530, 'LiteralSequenceExpression': 260, 'Other': 210}\n"
     ]
    }
   ],
   "source": [
    "#SPDI Counter\n",
    "print(\"SPDI file\")\n",
    "print(count_state_type(spdiDF))\n",
    "\n",
    "#HGVS Counter\n",
    "print(\"HGVS file\")\n",
    "print(count_state_type(hgvsDF))\n"
   ]
  },
  {
   "cell_type": "code",
   "execution_count": 16,
   "id": "f795d37f",
   "metadata": {},
   "outputs": [
    {
     "data": {
      "text/html": [
       "<div>\n",
       "<style scoped>\n",
       "    .dataframe tbody tr th:only-of-type {\n",
       "        vertical-align: middle;\n",
       "    }\n",
       "\n",
       "    .dataframe tbody tr th {\n",
       "        vertical-align: top;\n",
       "    }\n",
       "\n",
       "    .dataframe thead th {\n",
       "        text-align: right;\n",
       "    }\n",
       "</style>\n",
       "<table border=\"1\" class=\"dataframe\">\n",
       "  <thead>\n",
       "    <tr style=\"text-align: right;\">\n",
       "      <th></th>\n",
       "      <th>Error Type</th>\n",
       "      <th>Count</th>\n",
       "    </tr>\n",
       "  </thead>\n",
       "  <tbody>\n",
       "    <tr>\n",
       "      <th>0</th>\n",
       "      <td>HGVSParseError</td>\n",
       "      <td>179</td>\n",
       "    </tr>\n",
       "    <tr>\n",
       "      <th>1</th>\n",
       "      <td>ValueError</td>\n",
       "      <td>25</td>\n",
       "    </tr>\n",
       "    <tr>\n",
       "      <th>2</th>\n",
       "      <td>Task did not complete</td>\n",
       "      <td>2</td>\n",
       "    </tr>\n",
       "    <tr>\n",
       "      <th>3</th>\n",
       "      <td>AttributeError</td>\n",
       "      <td>1</td>\n",
       "    </tr>\n",
       "    <tr>\n",
       "      <th>4</th>\n",
       "      <td>HGVSDataNotAvailable</td>\n",
       "      <td>2</td>\n",
       "    </tr>\n",
       "    <tr>\n",
       "      <th>5</th>\n",
       "      <td>HGVSInvalidVariant</td>\n",
       "      <td>1</td>\n",
       "    </tr>\n",
       "  </tbody>\n",
       "</table>\n",
       "</div>"
      ],
      "text/plain": [
       "              Error Type  Count\n",
       "0         HGVSParseError    179\n",
       "1             ValueError     25\n",
       "2  Task did not complete      2\n",
       "3         AttributeError      1\n",
       "4   HGVSDataNotAvailable      2\n",
       "5     HGVSInvalidVariant      1"
      ]
     },
     "execution_count": 16,
     "metadata": {},
     "output_type": "execute_result"
    }
   ],
   "source": [
    "error_counts = types_of_error(errorDF)\n",
    "\n",
    "# Display as a DataFrame for readability\n",
    "pd.DataFrame(list(error_counts.items()), columns=[\"Error Type\", \"Count\"])"
   ]
  },
  {
   "cell_type": "markdown",
   "id": "ba01ea03",
   "metadata": {},
   "source": [
    "## Error Analysis for HGVS Translations\n",
    "\n",
    "The `errorDF` dataset captures the **210 HGVS Alleles (~21%)** that could not be translated into valid VRS Allele & FHIR Allele Profiles.  \n",
    "Breaking down the failures by type reveals clear patterns:\n",
    "\n",
    "- **HGVSParseError (179 cases)** → The overwhelming majority of failures were due to parsing errors in HGVS strings.  \n",
    "- **ValueError (25 cases)** → Inputs did not conform to expected formats or ranges.  \n",
    "- **Task did not complete (2 cases)** → Likely timeouts or incomplete processing.  \n",
    "- **AttributeError (1 case)** → Unsupported HGVS expression not handled by the pipeline.  \n",
    "- **HGVSDataNotAvailable (2 cases)** → Missing reference data prevented translation.  \n",
    "- **HGVSInvalidVariant (1 case)** → The input was not a valid HGVS variant.  "
   ]
  }
 ],
 "metadata": {
  "kernelspec": {
   "display_name": "venv",
   "language": "python",
   "name": "python3"
  },
  "language_info": {
   "codemirror_mode": {
    "name": "ipython",
    "version": 3
   },
   "file_extension": ".py",
   "mimetype": "text/x-python",
   "name": "python",
   "nbconvert_exporter": "python",
   "pygments_lexer": "ipython3",
   "version": "3.11.5"
  }
 },
 "nbformat": 4,
 "nbformat_minor": 5
}
